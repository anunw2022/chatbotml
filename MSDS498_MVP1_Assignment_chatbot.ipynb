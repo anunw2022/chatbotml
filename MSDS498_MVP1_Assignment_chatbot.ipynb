{
  "cells": [
    {
      "cell_type": "markdown",
      "metadata": {
        "id": "y_XogcToNhOA"
      },
      "source": [
        "<img src=\"https://github.com/djp840/MSDS_453_Public/blob/main/images/NorthwesternHeader.png?raw=1\">"
      ],
      "id": "y_XogcToNhOA"
    },
    {
      "cell_type": "markdown",
      "metadata": {
        "id": "H8yd2ld5NhOE"
      },
      "source": [
        "## MSDS453 - Research Assignment 01 - First Vectorized Representation"
      ],
      "id": "H8yd2ld5NhOE"
    },
    {
      "cell_type": "markdown",
      "metadata": {
        "id": "ZQGhr4ALNhOE"
      },
      "source": [
        "\n",
        "Our goal in this exercise is to BEGIN coming to a common agreement, among this class, as to what terms we will use as we selectively refine our corpus-wide vocabulary. This corpus vocabulary is what would represent the content of each different document for clustering and classification purposes, which will be our next step. This means that we need to make decisions - what is in, what is out."
      ],
      "id": "ZQGhr4ALNhOE"
    },
    {
      "cell_type": "code",
      "execution_count": null,
      "metadata": {
        "id": "voxQOxkgNhOE"
      },
      "outputs": [],
      "source": [
        "import os\n",
        "import re\n",
        "import string\n",
        "import seaborn as sns\n",
        "import matplotlib.pyplot as plt\n",
        "import nltk\n",
        "import random\n",
        "from dataclasses import dataclass\n",
        "\n",
        "from nltk.stem.wordnet import WordNetLemmatizer\n",
        "from nltk.stem import PorterStemmer\n",
        "\n",
        "import gensim\n",
        "from gensim.models import Word2Vec\n",
        "from gensim.models.doc2vec import Doc2Vec, TaggedDocument\n",
        "\n",
        "from sklearn.feature_extraction.text import CountVectorizer\n",
        "from sklearn.metrics.pairwise import cosine_similarity\n",
        "from sklearn.manifold import TSNE\n",
        "\n",
        "import scipy.cluster.hierarchy\n",
        "\n",
        "from IPython.display import display, HTML\n",
        "\n",
        "from typing import List, Callable, Dict\n",
        "\n",
        "import nltk\n",
        "from tensorflow.keras.optimizers import SGD\n",
        "\n",
        "from tensorflow.keras.layers import Dense, Activation, Dropout\n",
        "import tensorflow as tf\n",
        "from tensorflow import keras\n",
        "import tensorflow_datasets as tfds\n",
        "tf.random.set_seed(2022)\n",
        "\n",
        "from typing import List, Callable, Dict, Tuple, Set\n",
        "\n",
        "# importing modules\n",
        "import pandas as pd\n",
        "from sklearn.feature_extraction.text import TfidfVectorizer\n",
        "from sklearn.preprocessing import LabelEncoder\n",
        "import numpy as np\n",
        "from tensorflow.keras.models import load_model\n",
        "import json\n",
        "import random\n",
        "# nltk.download() # for downloading packages"
      ],
      "id": "voxQOxkgNhOE"
    },
    {
      "cell_type": "markdown",
      "metadata": {
        "id": "MfVIoVpNNhOF"
      },
      "source": [
        "#### Uncomment To Map Drive"
      ],
      "id": "MfVIoVpNNhOF"
    },
    {
      "cell_type": "code",
      "execution_count": null,
      "metadata": {
        "colab": {
          "base_uri": "https://localhost:8080/"
        },
        "id": "nIMrbnEdNhOG",
        "outputId": "81ceb3e9-b00d-4f52-b699-5a4629d719ce"
      },
      "outputs": [
        {
          "output_type": "stream",
          "name": "stdout",
          "text": [
            "Mounted at /content/gdrive\n",
            "[Errno 2] No such file or directory: 'gdrive/MyDrive/MSDS/MSDS453/ML/'\n",
            "/content\n"
          ]
        }
      ],
      "source": [
        "from google.colab import drive\n",
        "drive.mount('/content/gdrive')\n",
        "%cd gdrive/MyDrive/MSDS/MSDS453/ML/"
      ],
      "id": "nIMrbnEdNhOG"
    },
    {
      "cell_type": "markdown",
      "metadata": {
        "id": "u4LIC03nNhOG"
      },
      "source": [
        "### NLTK Downloads"
      ],
      "id": "u4LIC03nNhOG"
    },
    {
      "cell_type": "code",
      "execution_count": null,
      "metadata": {
        "colab": {
          "base_uri": "https://localhost:8080/"
        },
        "id": "I0uRK2dfNhOI",
        "outputId": "9beed89a-9c4f-4df9-9cb1-09572cd51d23"
      },
      "outputs": [
        {
          "output_type": "execute_result",
          "data": {
            "text/plain": [
              "True"
            ]
          },
          "metadata": {},
          "execution_count": 3
        }
      ],
      "source": [
        "# Only run this once, they will be downloaded.\n",
        "nltk.download('stopwords',quiet=True)\n",
        "nltk.download('wordnet',quiet=True)\n",
        "nltk.download('punkt',quiet=True)\n",
        "nltk.download('omw-1.4',quiet=True)"
      ],
      "id": "I0uRK2dfNhOI"
    },
    {
      "cell_type": "markdown",
      "metadata": {
        "id": "YCV5XOUFNhOJ"
      },
      "source": [
        "<div class=\"alert alert-block alert-danger\">\n",
        "<b>Gensim</b> is a Python library for topic modelling, document indexing and similarity retrieval with large corpora. Target audience is the natural language processing (NLP) and information retrieval (IR) community <br><br>\n",
        "    <b>https://pypi.org/project/gensim/ </b>\n",
        "</div>"
      ],
      "id": "YCV5XOUFNhOJ"
    },
    {
      "cell_type": "code",
      "execution_count": null,
      "metadata": {
        "id": "Maut0z98NhOJ"
      },
      "outputs": [],
      "source": [
        "import pkg_resources\n",
        "pkg_resources.require(\"gensim<=3.8.3\");"
      ],
      "id": "Maut0z98NhOJ"
    },
    {
      "cell_type": "code",
      "execution_count": null,
      "metadata": {
        "colab": {
          "base_uri": "https://localhost:8080/"
        },
        "id": "_g9sssYWNhOK",
        "outputId": "e2397b29-8a97-4e57-f959-961d7e9a4658"
      },
      "outputs": [
        {
          "output_type": "stream",
          "name": "stdout",
          "text": [
            "Genism Version:  3.6.0\n"
          ]
        }
      ],
      "source": [
        "print(\"Genism Version: \", gensim.__version__)"
      ],
      "id": "_g9sssYWNhOK"
    },
    {
      "cell_type": "markdown",
      "metadata": {
        "id": "adVw05qKNhOK"
      },
      "source": [
        "<div class=\"alert alert-block alert-info\">\n",
        "    <b>Suppress warning messages</b></div>"
      ],
      "id": "adVw05qKNhOK"
    },
    {
      "cell_type": "markdown",
      "metadata": {
        "id": "1T6cIWOxNhOK"
      },
      "source": [
        "# chatbot"
      ],
      "id": "1T6cIWOxNhOK"
    },
    {
      "cell_type": "code",
      "execution_count": null,
      "metadata": {
        "id": "ygmRZ0cDNhOK"
      },
      "outputs": [],
      "source": [
        "# importing modules\n",
        "import pandas as pd\n",
        "from sklearn.feature_extraction.text import TfidfVectorizer\n",
        "from sklearn.preprocessing import LabelEncoder\n",
        "from tensorflow.keras import Sequential\n",
        "from tensorflow.keras.layers import Dense\n",
        "from tensorflow.keras.models import save_model\n",
        "import networkx as nx\n",
        "import matplotlib.pyplot as plt\n",
        "from tqdm import tqdm\n",
        "import spacy\n",
        "from spacy import displacy\n",
        "\n",
        "from spacy.matcher import Matcher \n",
        "from spacy.tokens import Span "
      ],
      "id": "ygmRZ0cDNhOK"
    },
    {
      "cell_type": "code",
      "execution_count": null,
      "metadata": {
        "colab": {
          "base_uri": "https://localhost:8080/"
        },
        "id": "_DR-S3mXNhOL",
        "outputId": "f03b7f99-8749-4e4a-c088-46013a17c4a9"
      },
      "outputs": [
        {
          "output_type": "execute_result",
          "data": {
            "text/plain": [
              "0                        Intro\n",
              "1                        Intro\n",
              "2                        Intro\n",
              "3                        Intro\n",
              "4                        Intro\n",
              "                ...           \n",
              "63    dimensionality reduction\n",
              "64    dimensionality reduction\n",
              "65           gradient boosting\n",
              "66           gradient boosting\n",
              "67           gradient boosting\n",
              "Name: tags, Length: 68, dtype: object"
            ]
          },
          "metadata": {},
          "execution_count": 7
        }
      ],
      "source": [
        "# importing training data\n",
        "training_data = pd.read_csv(\"./training_data.csv\")\n",
        "training_data['tags'].astype(str)"
      ],
      "id": "_DR-S3mXNhOL"
    },
    {
      "cell_type": "markdown",
      "metadata": {
        "id": "DZ-T-Lx2NhOL"
      },
      "source": [
        "# Model1"
      ],
      "id": "DZ-T-Lx2NhOL"
    },
    {
      "cell_type": "code",
      "source": [
        "training_data.tail()"
      ],
      "metadata": {
        "colab": {
          "base_uri": "https://localhost:8080/",
          "height": 206
        },
        "id": "T_RJnmpeyIjS",
        "outputId": "7f900d84-0870-4fdf-dfd7-e509d9b1daf6"
      },
      "id": "T_RJnmpeyIjS",
      "execution_count": null,
      "outputs": [
        {
          "output_type": "execute_result",
          "data": {
            "text/plain": [
              "                              patterns                      tags\n",
              "63    defined dimensionality reduction  dimensionality reduction\n",
              "64  purpose of dimensinality reduction  dimensionality reduction\n",
              "65           what is gradient boosting         gradient boosting\n",
              "66            use of gradient boosting         gradient boosting\n",
              "67            define gradient boosting         gradient boosting"
            ],
            "text/html": [
              "\n",
              "  <div id=\"df-3f35ed38-d68f-4c91-afaa-6be4786a40b1\">\n",
              "    <div class=\"colab-df-container\">\n",
              "      <div>\n",
              "<style scoped>\n",
              "    .dataframe tbody tr th:only-of-type {\n",
              "        vertical-align: middle;\n",
              "    }\n",
              "\n",
              "    .dataframe tbody tr th {\n",
              "        vertical-align: top;\n",
              "    }\n",
              "\n",
              "    .dataframe thead th {\n",
              "        text-align: right;\n",
              "    }\n",
              "</style>\n",
              "<table border=\"1\" class=\"dataframe\">\n",
              "  <thead>\n",
              "    <tr style=\"text-align: right;\">\n",
              "      <th></th>\n",
              "      <th>patterns</th>\n",
              "      <th>tags</th>\n",
              "    </tr>\n",
              "  </thead>\n",
              "  <tbody>\n",
              "    <tr>\n",
              "      <th>63</th>\n",
              "      <td>defined dimensionality reduction</td>\n",
              "      <td>dimensionality reduction</td>\n",
              "    </tr>\n",
              "    <tr>\n",
              "      <th>64</th>\n",
              "      <td>purpose of dimensinality reduction</td>\n",
              "      <td>dimensionality reduction</td>\n",
              "    </tr>\n",
              "    <tr>\n",
              "      <th>65</th>\n",
              "      <td>what is gradient boosting</td>\n",
              "      <td>gradient boosting</td>\n",
              "    </tr>\n",
              "    <tr>\n",
              "      <th>66</th>\n",
              "      <td>use of gradient boosting</td>\n",
              "      <td>gradient boosting</td>\n",
              "    </tr>\n",
              "    <tr>\n",
              "      <th>67</th>\n",
              "      <td>define gradient boosting</td>\n",
              "      <td>gradient boosting</td>\n",
              "    </tr>\n",
              "  </tbody>\n",
              "</table>\n",
              "</div>\n",
              "      <button class=\"colab-df-convert\" onclick=\"convertToInteractive('df-3f35ed38-d68f-4c91-afaa-6be4786a40b1')\"\n",
              "              title=\"Convert this dataframe to an interactive table.\"\n",
              "              style=\"display:none;\">\n",
              "        \n",
              "  <svg xmlns=\"http://www.w3.org/2000/svg\" height=\"24px\"viewBox=\"0 0 24 24\"\n",
              "       width=\"24px\">\n",
              "    <path d=\"M0 0h24v24H0V0z\" fill=\"none\"/>\n",
              "    <path d=\"M18.56 5.44l.94 2.06.94-2.06 2.06-.94-2.06-.94-.94-2.06-.94 2.06-2.06.94zm-11 1L8.5 8.5l.94-2.06 2.06-.94-2.06-.94L8.5 2.5l-.94 2.06-2.06.94zm10 10l.94 2.06.94-2.06 2.06-.94-2.06-.94-.94-2.06-.94 2.06-2.06.94z\"/><path d=\"M17.41 7.96l-1.37-1.37c-.4-.4-.92-.59-1.43-.59-.52 0-1.04.2-1.43.59L10.3 9.45l-7.72 7.72c-.78.78-.78 2.05 0 2.83L4 21.41c.39.39.9.59 1.41.59.51 0 1.02-.2 1.41-.59l7.78-7.78 2.81-2.81c.8-.78.8-2.07 0-2.86zM5.41 20L4 18.59l7.72-7.72 1.47 1.35L5.41 20z\"/>\n",
              "  </svg>\n",
              "      </button>\n",
              "      \n",
              "  <style>\n",
              "    .colab-df-container {\n",
              "      display:flex;\n",
              "      flex-wrap:wrap;\n",
              "      gap: 12px;\n",
              "    }\n",
              "\n",
              "    .colab-df-convert {\n",
              "      background-color: #E8F0FE;\n",
              "      border: none;\n",
              "      border-radius: 50%;\n",
              "      cursor: pointer;\n",
              "      display: none;\n",
              "      fill: #1967D2;\n",
              "      height: 32px;\n",
              "      padding: 0 0 0 0;\n",
              "      width: 32px;\n",
              "    }\n",
              "\n",
              "    .colab-df-convert:hover {\n",
              "      background-color: #E2EBFA;\n",
              "      box-shadow: 0px 1px 2px rgba(60, 64, 67, 0.3), 0px 1px 3px 1px rgba(60, 64, 67, 0.15);\n",
              "      fill: #174EA6;\n",
              "    }\n",
              "\n",
              "    [theme=dark] .colab-df-convert {\n",
              "      background-color: #3B4455;\n",
              "      fill: #D2E3FC;\n",
              "    }\n",
              "\n",
              "    [theme=dark] .colab-df-convert:hover {\n",
              "      background-color: #434B5C;\n",
              "      box-shadow: 0px 1px 3px 1px rgba(0, 0, 0, 0.15);\n",
              "      filter: drop-shadow(0px 1px 2px rgba(0, 0, 0, 0.3));\n",
              "      fill: #FFFFFF;\n",
              "    }\n",
              "  </style>\n",
              "\n",
              "      <script>\n",
              "        const buttonEl =\n",
              "          document.querySelector('#df-3f35ed38-d68f-4c91-afaa-6be4786a40b1 button.colab-df-convert');\n",
              "        buttonEl.style.display =\n",
              "          google.colab.kernel.accessAllowed ? 'block' : 'none';\n",
              "\n",
              "        async function convertToInteractive(key) {\n",
              "          const element = document.querySelector('#df-3f35ed38-d68f-4c91-afaa-6be4786a40b1');\n",
              "          const dataTable =\n",
              "            await google.colab.kernel.invokeFunction('convertToInteractive',\n",
              "                                                     [key], {});\n",
              "          if (!dataTable) return;\n",
              "\n",
              "          const docLinkHtml = 'Like what you see? Visit the ' +\n",
              "            '<a target=\"_blank\" href=https://colab.research.google.com/notebooks/data_table.ipynb>data table notebook</a>'\n",
              "            + ' to learn more about interactive tables.';\n",
              "          element.innerHTML = '';\n",
              "          dataTable['output_type'] = 'display_data';\n",
              "          await google.colab.output.renderOutput(dataTable, element);\n",
              "          const docLink = document.createElement('div');\n",
              "          docLink.innerHTML = docLinkHtml;\n",
              "          element.appendChild(docLink);\n",
              "        }\n",
              "      </script>\n",
              "    </div>\n",
              "  </div>\n",
              "  "
            ]
          },
          "metadata": {},
          "execution_count": 8
        }
      ]
    },
    {
      "cell_type": "code",
      "execution_count": null,
      "metadata": {
        "id": "Y9yET_ByNhOL"
      },
      "outputs": [],
      "source": [
        "# preprocessing training data\n",
        "raw_data = training_data.copy()\n",
        "raw_data['patterns'] = raw_data['patterns'].str.lower()\n",
        "vectorizer = TfidfVectorizer(ngram_range=(1, 6), stop_words=\"english\")\n",
        "raw_data_tfidf = vectorizer.fit_transform(raw_data['patterns']).toarray()"
      ],
      "id": "Y9yET_ByNhOL"
    },
    {
      "cell_type": "code",
      "execution_count": null,
      "metadata": {
        "id": "zoebFspINhOL"
      },
      "outputs": [],
      "source": [
        "# preprocessing target variable(tags)\n",
        "label_encoder = LabelEncoder()\n",
        "raw_data_tags_label_encoder = pd.DataFrame({'tags': label_encoder.fit_transform(raw_data['tags'].astype(str))})\n",
        "raw_data_tags = pd.get_dummies(raw_data_tags_label_encoder['tags']).to_numpy()"
      ],
      "id": "zoebFspINhOL"
    },
    {
      "cell_type": "code",
      "execution_count": null,
      "metadata": {
        "id": "79HzeL1PNhOL"
      },
      "outputs": [],
      "source": [
        "# creating DNN\n",
        "chatbot = Sequential()\n",
        "chatbot.add(Dense(10, input_shape=(len(raw_data_tfidf[0]),)))\n",
        "chatbot.add(Dense(32))\n",
        "chatbot.add(Dense(64, activation='relu'))\n",
        "chatbot.add(Dense(32))\n",
        "chatbot.add(Dense(len(raw_data_tags[0]), activation=\"softmax\"))\n",
        "chatbot.compile(optimizer=\"rmsprop\", loss=\"categorical_crossentropy\", metrics=['accuracy'])"
      ],
      "id": "79HzeL1PNhOL"
    },
    {
      "cell_type": "code",
      "source": [],
      "metadata": {
        "id": "vTZhO7QR5YeQ"
      },
      "id": "vTZhO7QR5YeQ",
      "execution_count": null,
      "outputs": []
    },
    {
      "cell_type": "code",
      "source": [
        "chatbot.summary()"
      ],
      "metadata": {
        "colab": {
          "base_uri": "https://localhost:8080/"
        },
        "id": "ZgQE-Rgq1YxW",
        "outputId": "2cd7d42c-adeb-42d3-878b-4be044216806"
      },
      "id": "ZgQE-Rgq1YxW",
      "execution_count": null,
      "outputs": [
        {
          "output_type": "stream",
          "name": "stdout",
          "text": [
            "Model: \"sequential\"\n",
            "_________________________________________________________________\n",
            " Layer (type)                Output Shape              Param #   \n",
            "=================================================================\n",
            " dense (Dense)               (None, 10)                1770      \n",
            "                                                                 \n",
            " dense_1 (Dense)             (None, 32)                352       \n",
            "                                                                 \n",
            " dense_2 (Dense)             (None, 64)                2112      \n",
            "                                                                 \n",
            " dense_3 (Dense)             (None, 32)                2080      \n",
            "                                                                 \n",
            " dense_4 (Dense)             (None, 17)                561       \n",
            "                                                                 \n",
            "=================================================================\n",
            "Total params: 6,875\n",
            "Trainable params: 6,875\n",
            "Non-trainable params: 0\n",
            "_________________________________________________________________\n"
          ]
        }
      ]
    },
    {
      "cell_type": "code",
      "execution_count": null,
      "metadata": {
        "colab": {
          "base_uri": "https://localhost:8080/",
          "height": 1000
        },
        "id": "Nt0rBJ5fNhOL",
        "outputId": "58eb7089-00b5-4c36-ddc6-f41dfbb2dc77"
      },
      "outputs": [
        {
          "output_type": "stream",
          "name": "stdout",
          "text": [
            "Epoch 1/200\n",
            "6/6 [==============================] - 1s 4ms/step - loss: 2.8304 - accuracy: 0.0370\n",
            "Epoch 2/200\n",
            "6/6 [==============================] - 0s 4ms/step - loss: 2.7876 - accuracy: 0.2037\n",
            "Epoch 3/200\n",
            "6/6 [==============================] - 0s 3ms/step - loss: 2.7513 - accuracy: 0.3519\n",
            "Epoch 4/200\n",
            "6/6 [==============================] - 0s 6ms/step - loss: 2.7128 - accuracy: 0.3519\n",
            "Epoch 5/200\n",
            "6/6 [==============================] - 0s 3ms/step - loss: 2.6697 - accuracy: 0.4815\n",
            "Epoch 6/200\n",
            "6/6 [==============================] - 0s 4ms/step - loss: 2.6192 - accuracy: 0.4074\n",
            "Epoch 7/200\n",
            "6/6 [==============================] - 0s 3ms/step - loss: 2.5608 - accuracy: 0.4444\n",
            "Epoch 8/200\n",
            "6/6 [==============================] - 0s 3ms/step - loss: 2.4985 - accuracy: 0.4630\n",
            "Epoch 9/200\n",
            "6/6 [==============================] - 0s 2ms/step - loss: 2.4251 - accuracy: 0.4630\n",
            "Epoch 10/200\n",
            "6/6 [==============================] - 0s 3ms/step - loss: 2.3449 - accuracy: 0.5185\n",
            "Epoch 11/200\n",
            "6/6 [==============================] - 0s 3ms/step - loss: 2.2604 - accuracy: 0.5556\n",
            "Epoch 12/200\n",
            "6/6 [==============================] - 0s 3ms/step - loss: 2.1715 - accuracy: 0.5741\n",
            "Epoch 13/200\n",
            "6/6 [==============================] - 0s 3ms/step - loss: 2.0751 - accuracy: 0.5370\n",
            "Epoch 14/200\n",
            "6/6 [==============================] - 0s 3ms/step - loss: 1.9804 - accuracy: 0.5370\n",
            "Epoch 15/200\n",
            "6/6 [==============================] - 0s 3ms/step - loss: 1.8807 - accuracy: 0.5741\n",
            "Epoch 16/200\n",
            "6/6 [==============================] - 0s 3ms/step - loss: 1.7781 - accuracy: 0.5741\n",
            "Epoch 17/200\n",
            "6/6 [==============================] - 0s 4ms/step - loss: 1.6734 - accuracy: 0.6111\n",
            "Epoch 18/200\n",
            "6/6 [==============================] - 0s 3ms/step - loss: 1.5834 - accuracy: 0.6111\n",
            "Epoch 19/200\n",
            "6/6 [==============================] - 0s 3ms/step - loss: 1.4811 - accuracy: 0.6852\n",
            "Epoch 20/200\n",
            "6/6 [==============================] - 0s 3ms/step - loss: 1.3878 - accuracy: 0.6852\n",
            "Epoch 21/200\n",
            "6/6 [==============================] - 0s 2ms/step - loss: 1.3009 - accuracy: 0.7037\n",
            "Epoch 22/200\n",
            "6/6 [==============================] - 0s 4ms/step - loss: 1.2072 - accuracy: 0.7222\n",
            "Epoch 23/200\n",
            "6/6 [==============================] - 0s 3ms/step - loss: 1.1253 - accuracy: 0.7407\n",
            "Epoch 24/200\n",
            "6/6 [==============================] - 0s 3ms/step - loss: 1.0507 - accuracy: 0.7222\n",
            "Epoch 25/200\n",
            "6/6 [==============================] - 0s 3ms/step - loss: 0.9679 - accuracy: 0.7963\n",
            "Epoch 26/200\n",
            "6/6 [==============================] - 0s 3ms/step - loss: 0.9012 - accuracy: 0.7778\n",
            "Epoch 27/200\n",
            "6/6 [==============================] - 0s 3ms/step - loss: 0.8367 - accuracy: 0.7407\n",
            "Epoch 28/200\n",
            "6/6 [==============================] - 0s 4ms/step - loss: 0.7638 - accuracy: 0.7963\n",
            "Epoch 29/200\n",
            "6/6 [==============================] - 0s 3ms/step - loss: 0.6977 - accuracy: 0.8333\n",
            "Epoch 30/200\n",
            "6/6 [==============================] - 0s 3ms/step - loss: 0.6388 - accuracy: 0.8333\n",
            "Epoch 31/200\n",
            "6/6 [==============================] - 0s 3ms/step - loss: 0.5749 - accuracy: 0.8704\n",
            "Epoch 32/200\n",
            "6/6 [==============================] - 0s 5ms/step - loss: 0.5280 - accuracy: 0.8704\n",
            "Epoch 33/200\n",
            "6/6 [==============================] - 0s 3ms/step - loss: 0.4817 - accuracy: 0.9074\n",
            "Epoch 34/200\n",
            "6/6 [==============================] - 0s 4ms/step - loss: 0.4318 - accuracy: 0.9074\n",
            "Epoch 35/200\n",
            "6/6 [==============================] - 0s 3ms/step - loss: 0.3914 - accuracy: 0.8889\n",
            "Epoch 36/200\n",
            "6/6 [==============================] - 0s 3ms/step - loss: 0.3582 - accuracy: 0.8889\n",
            "Epoch 37/200\n",
            "6/6 [==============================] - 0s 3ms/step - loss: 0.3230 - accuracy: 0.9074\n",
            "Epoch 38/200\n",
            "6/6 [==============================] - 0s 4ms/step - loss: 0.2942 - accuracy: 0.9259\n",
            "Epoch 39/200\n",
            "6/6 [==============================] - 0s 3ms/step - loss: 0.2678 - accuracy: 0.9259\n",
            "Epoch 40/200\n",
            "6/6 [==============================] - 0s 3ms/step - loss: 0.2425 - accuracy: 0.9259\n",
            "Epoch 41/200\n",
            "6/6 [==============================] - 0s 4ms/step - loss: 0.2317 - accuracy: 0.9074\n",
            "Epoch 42/200\n",
            "6/6 [==============================] - 0s 4ms/step - loss: 0.2034 - accuracy: 0.9444\n",
            "Epoch 43/200\n",
            "6/6 [==============================] - 0s 3ms/step - loss: 0.1934 - accuracy: 0.9444\n",
            "Epoch 44/200\n",
            "6/6 [==============================] - 0s 3ms/step - loss: 0.1768 - accuracy: 0.9259\n",
            "Epoch 45/200\n",
            "6/6 [==============================] - 0s 3ms/step - loss: 0.1598 - accuracy: 0.9444\n",
            "Epoch 46/200\n",
            "6/6 [==============================] - 0s 4ms/step - loss: 0.1528 - accuracy: 0.9444\n",
            "Epoch 47/200\n",
            "6/6 [==============================] - 0s 4ms/step - loss: 0.1391 - accuracy: 0.9444\n",
            "Epoch 48/200\n",
            "6/6 [==============================] - 0s 4ms/step - loss: 0.1299 - accuracy: 0.9630\n",
            "Epoch 49/200\n",
            "6/6 [==============================] - 0s 3ms/step - loss: 0.1342 - accuracy: 0.9444\n",
            "Epoch 50/200\n",
            "6/6 [==============================] - 0s 4ms/step - loss: 0.1241 - accuracy: 0.9259\n",
            "Epoch 51/200\n",
            "6/6 [==============================] - 0s 4ms/step - loss: 0.1125 - accuracy: 0.9259\n",
            "Epoch 52/200\n",
            "6/6 [==============================] - 0s 3ms/step - loss: 0.1183 - accuracy: 0.9259\n",
            "Epoch 53/200\n",
            "6/6 [==============================] - 0s 3ms/step - loss: 0.1233 - accuracy: 0.9074\n",
            "Epoch 54/200\n",
            "6/6 [==============================] - 0s 4ms/step - loss: 0.1033 - accuracy: 0.9259\n",
            "Epoch 55/200\n",
            "6/6 [==============================] - 0s 3ms/step - loss: 0.1031 - accuracy: 0.9259\n",
            "Epoch 56/200\n",
            "6/6 [==============================] - 0s 3ms/step - loss: 0.1198 - accuracy: 0.9444\n",
            "Epoch 57/200\n",
            "6/6 [==============================] - 0s 3ms/step - loss: 0.0995 - accuracy: 0.9259\n",
            "Epoch 58/200\n",
            "6/6 [==============================] - 0s 3ms/step - loss: 0.0944 - accuracy: 0.9444\n",
            "Epoch 59/200\n",
            "6/6 [==============================] - 0s 3ms/step - loss: 0.1005 - accuracy: 0.9259\n",
            "Epoch 60/200\n",
            "6/6 [==============================] - 0s 3ms/step - loss: 0.0964 - accuracy: 0.9444\n",
            "Epoch 61/200\n",
            "6/6 [==============================] - 0s 3ms/step - loss: 0.0973 - accuracy: 0.9074\n",
            "Epoch 62/200\n",
            "6/6 [==============================] - 0s 3ms/step - loss: 0.0863 - accuracy: 0.9444\n",
            "Epoch 63/200\n",
            "6/6 [==============================] - 0s 5ms/step - loss: 0.0896 - accuracy: 0.9444\n",
            "Epoch 64/200\n",
            "6/6 [==============================] - 0s 4ms/step - loss: 0.0936 - accuracy: 0.9074\n",
            "Epoch 65/200\n",
            "6/6 [==============================] - 0s 3ms/step - loss: 0.0878 - accuracy: 0.9259\n",
            "Epoch 66/200\n",
            "6/6 [==============================] - 0s 3ms/step - loss: 0.0924 - accuracy: 0.9444\n",
            "Epoch 67/200\n",
            "6/6 [==============================] - 0s 4ms/step - loss: 0.0953 - accuracy: 0.9074\n",
            "Epoch 68/200\n",
            "6/6 [==============================] - 0s 3ms/step - loss: 0.0876 - accuracy: 0.9444\n",
            "Epoch 69/200\n",
            "6/6 [==============================] - 0s 3ms/step - loss: 0.0941 - accuracy: 0.9259\n",
            "Epoch 70/200\n",
            "6/6 [==============================] - 0s 3ms/step - loss: 0.0863 - accuracy: 0.9259\n",
            "Epoch 71/200\n",
            "6/6 [==============================] - 0s 3ms/step - loss: 0.0900 - accuracy: 0.9259\n",
            "Epoch 72/200\n",
            "6/6 [==============================] - 0s 3ms/step - loss: 0.0935 - accuracy: 0.9074\n",
            "Epoch 73/200\n",
            "6/6 [==============================] - 0s 3ms/step - loss: 0.0866 - accuracy: 0.9444\n",
            "Epoch 74/200\n",
            "6/6 [==============================] - 0s 3ms/step - loss: 0.0904 - accuracy: 0.9259\n",
            "Epoch 75/200\n",
            "6/6 [==============================] - 0s 3ms/step - loss: 0.0828 - accuracy: 0.9444\n",
            "Epoch 76/200\n",
            "6/6 [==============================] - 0s 3ms/step - loss: 0.0884 - accuracy: 0.9259\n",
            "Epoch 77/200\n",
            "6/6 [==============================] - 0s 3ms/step - loss: 0.0916 - accuracy: 0.9259\n",
            "Epoch 78/200\n",
            "6/6 [==============================] - 0s 3ms/step - loss: 0.0824 - accuracy: 0.9259\n",
            "Epoch 79/200\n",
            "6/6 [==============================] - 0s 3ms/step - loss: 0.0889 - accuracy: 0.9074\n",
            "Epoch 80/200\n",
            "6/6 [==============================] - 0s 3ms/step - loss: 0.0877 - accuracy: 0.9444\n",
            "Epoch 81/200\n",
            "6/6 [==============================] - 0s 3ms/step - loss: 0.0858 - accuracy: 0.9259\n",
            "Epoch 82/200\n",
            "6/6 [==============================] - 0s 3ms/step - loss: 0.0934 - accuracy: 0.9259\n",
            "Epoch 83/200\n",
            "6/6 [==============================] - 0s 3ms/step - loss: 0.0807 - accuracy: 0.9444\n",
            "Epoch 84/200\n",
            "6/6 [==============================] - 0s 3ms/step - loss: 0.0842 - accuracy: 0.9444\n",
            "Epoch 85/200\n",
            "6/6 [==============================] - 0s 3ms/step - loss: 0.0849 - accuracy: 0.9259\n",
            "Epoch 86/200\n",
            "6/6 [==============================] - 0s 3ms/step - loss: 0.0879 - accuracy: 0.9444\n",
            "Epoch 87/200\n",
            "6/6 [==============================] - 0s 3ms/step - loss: 0.0824 - accuracy: 0.9259\n",
            "Epoch 88/200\n",
            "6/6 [==============================] - 0s 3ms/step - loss: 0.0848 - accuracy: 0.9444\n",
            "Epoch 89/200\n",
            "6/6 [==============================] - 0s 3ms/step - loss: 0.0791 - accuracy: 0.9444\n",
            "Epoch 90/200\n",
            "6/6 [==============================] - 0s 3ms/step - loss: 0.0842 - accuracy: 0.9444\n",
            "Epoch 91/200\n",
            "6/6 [==============================] - 0s 3ms/step - loss: 0.0865 - accuracy: 0.9259\n",
            "Epoch 92/200\n",
            "6/6 [==============================] - 0s 3ms/step - loss: 0.0939 - accuracy: 0.8889\n",
            "Epoch 93/200\n",
            "6/6 [==============================] - 0s 3ms/step - loss: 0.0919 - accuracy: 0.9074\n",
            "Epoch 94/200\n",
            "6/6 [==============================] - 0s 3ms/step - loss: 0.0859 - accuracy: 0.9259\n",
            "Epoch 95/200\n",
            "6/6 [==============================] - 0s 3ms/step - loss: 0.0845 - accuracy: 0.9074\n",
            "Epoch 96/200\n",
            "6/6 [==============================] - 0s 3ms/step - loss: 0.0886 - accuracy: 0.9444\n",
            "Epoch 97/200\n",
            "6/6 [==============================] - 0s 3ms/step - loss: 0.0834 - accuracy: 0.9259\n",
            "Epoch 98/200\n",
            "6/6 [==============================] - 0s 4ms/step - loss: 0.0827 - accuracy: 0.9259\n",
            "Epoch 99/200\n",
            "6/6 [==============================] - 0s 4ms/step - loss: 0.0850 - accuracy: 0.9259\n",
            "Epoch 100/200\n",
            "6/6 [==============================] - 0s 3ms/step - loss: 0.0802 - accuracy: 0.9259\n",
            "Epoch 101/200\n",
            "6/6 [==============================] - 0s 5ms/step - loss: 0.0805 - accuracy: 0.9259\n",
            "Epoch 102/200\n",
            "6/6 [==============================] - 0s 4ms/step - loss: 0.0838 - accuracy: 0.9259\n",
            "Epoch 103/200\n",
            "6/6 [==============================] - 0s 4ms/step - loss: 0.0809 - accuracy: 0.9444\n",
            "Epoch 104/200\n",
            "6/6 [==============================] - 0s 3ms/step - loss: 0.0801 - accuracy: 0.9259\n",
            "Epoch 105/200\n",
            "6/6 [==============================] - 0s 3ms/step - loss: 0.0877 - accuracy: 0.9444\n",
            "Epoch 106/200\n",
            "6/6 [==============================] - 0s 3ms/step - loss: 0.0815 - accuracy: 0.9259\n",
            "Epoch 107/200\n",
            "6/6 [==============================] - 0s 4ms/step - loss: 0.0852 - accuracy: 0.9259\n",
            "Epoch 108/200\n",
            "6/6 [==============================] - 0s 4ms/step - loss: 0.0849 - accuracy: 0.9074\n",
            "Epoch 109/200\n",
            "6/6 [==============================] - 0s 3ms/step - loss: 0.0848 - accuracy: 0.9259\n",
            "Epoch 110/200\n",
            "6/6 [==============================] - 0s 3ms/step - loss: 0.0809 - accuracy: 0.9444\n",
            "Epoch 111/200\n",
            "6/6 [==============================] - 0s 3ms/step - loss: 0.0859 - accuracy: 0.9074\n",
            "Epoch 112/200\n",
            "6/6 [==============================] - 0s 5ms/step - loss: 0.0848 - accuracy: 0.9259\n",
            "Epoch 113/200\n",
            "6/6 [==============================] - 0s 3ms/step - loss: 0.0810 - accuracy: 0.9259\n",
            "Epoch 114/200\n",
            "6/6 [==============================] - 0s 4ms/step - loss: 0.0784 - accuracy: 0.9444\n",
            "Epoch 115/200\n",
            "6/6 [==============================] - 0s 3ms/step - loss: 0.0844 - accuracy: 0.9074\n",
            "Epoch 116/200\n",
            "6/6 [==============================] - 0s 3ms/step - loss: 0.0792 - accuracy: 0.9444\n",
            "Epoch 117/200\n",
            "6/6 [==============================] - 0s 3ms/step - loss: 0.0845 - accuracy: 0.9444\n",
            "Epoch 118/200\n",
            "6/6 [==============================] - 0s 3ms/step - loss: 0.0836 - accuracy: 0.8889\n",
            "Epoch 119/200\n",
            "6/6 [==============================] - 0s 4ms/step - loss: 0.0811 - accuracy: 0.9259\n",
            "Epoch 120/200\n",
            "6/6 [==============================] - 0s 3ms/step - loss: 0.0839 - accuracy: 0.9444\n",
            "Epoch 121/200\n",
            "6/6 [==============================] - 0s 3ms/step - loss: 0.0807 - accuracy: 0.9259\n",
            "Epoch 122/200\n",
            "6/6 [==============================] - 0s 4ms/step - loss: 0.0811 - accuracy: 0.9259\n",
            "Epoch 123/200\n",
            "6/6 [==============================] - 0s 3ms/step - loss: 0.0794 - accuracy: 0.9444\n",
            "Epoch 124/200\n",
            "6/6 [==============================] - 0s 3ms/step - loss: 0.0839 - accuracy: 0.9259\n",
            "Epoch 125/200\n",
            "6/6 [==============================] - 0s 3ms/step - loss: 0.0816 - accuracy: 0.9259\n",
            "Epoch 126/200\n",
            "6/6 [==============================] - 0s 4ms/step - loss: 0.0813 - accuracy: 0.9259\n",
            "Epoch 127/200\n",
            "6/6 [==============================] - 0s 4ms/step - loss: 0.0772 - accuracy: 0.9444\n",
            "Epoch 128/200\n",
            "6/6 [==============================] - 0s 4ms/step - loss: 0.0827 - accuracy: 0.9444\n",
            "Epoch 129/200\n",
            "6/6 [==============================] - 0s 3ms/step - loss: 0.0851 - accuracy: 0.9074\n",
            "Epoch 130/200\n",
            "6/6 [==============================] - 0s 3ms/step - loss: 0.0872 - accuracy: 0.9074\n",
            "Epoch 131/200\n",
            "6/6 [==============================] - 0s 3ms/step - loss: 0.0827 - accuracy: 0.9259\n",
            "Epoch 132/200\n",
            "6/6 [==============================] - 0s 4ms/step - loss: 0.0788 - accuracy: 0.9259\n",
            "Epoch 133/200\n",
            "6/6 [==============================] - 0s 4ms/step - loss: 0.0818 - accuracy: 0.9074\n",
            "Epoch 134/200\n",
            "6/6 [==============================] - 0s 3ms/step - loss: 0.0789 - accuracy: 0.9259\n",
            "Epoch 135/200\n",
            "6/6 [==============================] - 0s 3ms/step - loss: 0.0814 - accuracy: 0.9259\n",
            "Epoch 136/200\n",
            "6/6 [==============================] - 0s 4ms/step - loss: 0.0774 - accuracy: 0.9444\n",
            "Epoch 137/200\n",
            "6/6 [==============================] - 0s 5ms/step - loss: 0.0814 - accuracy: 0.9444\n",
            "Epoch 138/200\n",
            "6/6 [==============================] - 0s 3ms/step - loss: 0.0819 - accuracy: 0.9444\n",
            "Epoch 139/200\n",
            "6/6 [==============================] - 0s 3ms/step - loss: 0.0833 - accuracy: 0.9074\n",
            "Epoch 140/200\n",
            "6/6 [==============================] - 0s 3ms/step - loss: 0.0805 - accuracy: 0.9444\n",
            "Epoch 141/200\n",
            "6/6 [==============================] - 0s 3ms/step - loss: 0.0814 - accuracy: 0.9444\n",
            "Epoch 142/200\n",
            "6/6 [==============================] - 0s 4ms/step - loss: 0.0788 - accuracy: 0.9444\n",
            "Epoch 143/200\n",
            "6/6 [==============================] - 0s 4ms/step - loss: 0.0806 - accuracy: 0.9444\n",
            "Epoch 144/200\n",
            "6/6 [==============================] - 0s 3ms/step - loss: 0.0788 - accuracy: 0.9259\n",
            "Epoch 145/200\n",
            "6/6 [==============================] - 0s 3ms/step - loss: 0.0814 - accuracy: 0.9074\n",
            "Epoch 146/200\n",
            "6/6 [==============================] - 0s 3ms/step - loss: 0.0818 - accuracy: 0.9259\n",
            "Epoch 147/200\n",
            "6/6 [==============================] - 0s 4ms/step - loss: 0.0795 - accuracy: 0.9444\n",
            "Epoch 148/200\n",
            "6/6 [==============================] - 0s 4ms/step - loss: 0.0792 - accuracy: 0.9444\n",
            "Epoch 149/200\n",
            "6/6 [==============================] - 0s 3ms/step - loss: 0.0820 - accuracy: 0.9444\n",
            "Epoch 150/200\n",
            "6/6 [==============================] - 0s 3ms/step - loss: 0.0786 - accuracy: 0.9444\n",
            "Epoch 151/200\n",
            "6/6 [==============================] - 0s 4ms/step - loss: 0.0793 - accuracy: 0.9444\n",
            "Epoch 152/200\n",
            "6/6 [==============================] - 0s 4ms/step - loss: 0.0820 - accuracy: 0.9444\n",
            "Epoch 153/200\n",
            "6/6 [==============================] - 0s 4ms/step - loss: 0.0804 - accuracy: 0.9259\n",
            "Epoch 154/200\n",
            "6/6 [==============================] - 0s 3ms/step - loss: 0.0786 - accuracy: 0.9444\n",
            "Epoch 155/200\n",
            "6/6 [==============================] - 0s 5ms/step - loss: 0.0825 - accuracy: 0.9259\n",
            "Epoch 156/200\n",
            "6/6 [==============================] - 0s 3ms/step - loss: 0.0795 - accuracy: 0.9074\n",
            "Epoch 157/200\n",
            "6/6 [==============================] - 0s 4ms/step - loss: 0.0823 - accuracy: 0.9444\n",
            "Epoch 158/200\n",
            "6/6 [==============================] - 0s 4ms/step - loss: 0.0808 - accuracy: 0.9259\n",
            "Epoch 159/200\n",
            "6/6 [==============================] - 0s 4ms/step - loss: 0.0820 - accuracy: 0.9259\n",
            "Epoch 160/200\n",
            "6/6 [==============================] - 0s 4ms/step - loss: 0.0792 - accuracy: 0.9074\n",
            "Epoch 161/200\n",
            "6/6 [==============================] - 0s 4ms/step - loss: 0.0785 - accuracy: 0.9259\n",
            "Epoch 162/200\n",
            "6/6 [==============================] - 0s 4ms/step - loss: 0.0803 - accuracy: 0.9444\n",
            "Epoch 163/200\n",
            "6/6 [==============================] - 0s 3ms/step - loss: 0.0783 - accuracy: 0.9444\n",
            "Epoch 164/200\n",
            "6/6 [==============================] - 0s 3ms/step - loss: 0.0800 - accuracy: 0.9074\n",
            "Epoch 165/200\n",
            "6/6 [==============================] - 0s 4ms/step - loss: 0.0797 - accuracy: 0.9259\n",
            "Epoch 166/200\n",
            "6/6 [==============================] - 0s 3ms/step - loss: 0.0801 - accuracy: 0.9259\n",
            "Epoch 167/200\n",
            "6/6 [==============================] - 0s 4ms/step - loss: 0.0803 - accuracy: 0.9074\n",
            "Epoch 168/200\n",
            "6/6 [==============================] - 0s 3ms/step - loss: 0.0813 - accuracy: 0.9074\n",
            "Epoch 169/200\n",
            "6/6 [==============================] - 0s 3ms/step - loss: 0.0785 - accuracy: 0.9444\n",
            "Epoch 170/200\n",
            "6/6 [==============================] - 0s 3ms/step - loss: 0.0799 - accuracy: 0.9259\n",
            "Epoch 171/200\n",
            "6/6 [==============================] - 0s 5ms/step - loss: 0.0786 - accuracy: 0.9259\n",
            "Epoch 172/200\n",
            "6/6 [==============================] - 0s 4ms/step - loss: 0.0798 - accuracy: 0.9444\n",
            "Epoch 173/200\n",
            "6/6 [==============================] - 0s 4ms/step - loss: 0.0804 - accuracy: 0.9259\n",
            "Epoch 174/200\n",
            "6/6 [==============================] - 0s 3ms/step - loss: 0.0829 - accuracy: 0.9074\n",
            "Epoch 175/200\n",
            "6/6 [==============================] - 0s 4ms/step - loss: 0.0805 - accuracy: 0.9259\n",
            "Epoch 176/200\n",
            "6/6 [==============================] - 0s 4ms/step - loss: 0.0807 - accuracy: 0.9259\n",
            "Epoch 177/200\n",
            "6/6 [==============================] - 0s 4ms/step - loss: 0.0774 - accuracy: 0.9444\n",
            "Epoch 178/200\n",
            "6/6 [==============================] - 0s 3ms/step - loss: 0.0802 - accuracy: 0.9259\n",
            "Epoch 179/200\n",
            "6/6 [==============================] - 0s 3ms/step - loss: 0.0771 - accuracy: 0.9444\n",
            "Epoch 180/200\n",
            "6/6 [==============================] - 0s 4ms/step - loss: 0.0844 - accuracy: 0.9074\n",
            "Epoch 181/200\n",
            "6/6 [==============================] - 0s 3ms/step - loss: 0.0803 - accuracy: 0.9259\n",
            "Epoch 182/200\n",
            "6/6 [==============================] - 0s 3ms/step - loss: 0.0822 - accuracy: 0.9074\n",
            "Epoch 183/200\n",
            "6/6 [==============================] - 0s 4ms/step - loss: 0.0781 - accuracy: 0.9444\n",
            "Epoch 184/200\n",
            "6/6 [==============================] - 0s 3ms/step - loss: 0.0801 - accuracy: 0.9074\n",
            "Epoch 185/200\n",
            "6/6 [==============================] - 0s 4ms/step - loss: 0.0801 - accuracy: 0.9444\n",
            "Epoch 186/200\n",
            "6/6 [==============================] - 0s 3ms/step - loss: 0.0792 - accuracy: 0.9259\n",
            "Epoch 187/200\n",
            "6/6 [==============================] - 0s 4ms/step - loss: 0.0812 - accuracy: 0.9444\n",
            "Epoch 188/200\n",
            "6/6 [==============================] - 0s 4ms/step - loss: 0.0790 - accuracy: 0.9074\n",
            "Epoch 189/200\n",
            "6/6 [==============================] - 0s 4ms/step - loss: 0.0806 - accuracy: 0.9444\n",
            "Epoch 190/200\n",
            "6/6 [==============================] - 0s 4ms/step - loss: 0.0783 - accuracy: 0.9444\n",
            "Epoch 191/200\n",
            "6/6 [==============================] - 0s 3ms/step - loss: 0.0784 - accuracy: 0.9630\n",
            "Epoch 192/200\n",
            "6/6 [==============================] - 0s 3ms/step - loss: 0.0802 - accuracy: 0.9259\n",
            "Epoch 193/200\n",
            "6/6 [==============================] - 0s 4ms/step - loss: 0.0782 - accuracy: 0.9444\n",
            "Epoch 194/200\n",
            "6/6 [==============================] - 0s 3ms/step - loss: 0.0784 - accuracy: 0.9259\n",
            "Epoch 195/200\n",
            "6/6 [==============================] - 0s 3ms/step - loss: 0.0786 - accuracy: 0.9444\n",
            "Epoch 196/200\n",
            "6/6 [==============================] - 0s 3ms/step - loss: 0.0805 - accuracy: 0.9074\n",
            "Epoch 197/200\n",
            "6/6 [==============================] - 0s 4ms/step - loss: 0.0793 - accuracy: 0.9444\n",
            "Epoch 198/200\n",
            "6/6 [==============================] - 0s 3ms/step - loss: 0.0801 - accuracy: 0.9444\n",
            "Epoch 199/200\n",
            "6/6 [==============================] - 0s 4ms/step - loss: 0.0795 - accuracy: 0.9074\n",
            "Epoch 200/200\n",
            "6/6 [==============================] - 0s 3ms/step - loss: 0.0796 - accuracy: 0.9259\n",
            "Epoch 1/200\n",
            "Epoch 2/200\n",
            "Epoch 3/200\n",
            "Epoch 4/200\n",
            "Epoch 5/200\n",
            "Epoch 6/200\n",
            "Epoch 7/200\n",
            "Epoch 8/200\n",
            "Epoch 9/200\n",
            "Epoch 10/200\n",
            "Epoch 11/200\n",
            "Epoch 12/200\n",
            "Epoch 13/200\n",
            "Epoch 14/200\n",
            "Epoch 15/200\n",
            "Epoch 16/200\n",
            "Epoch 17/200\n",
            "Epoch 18/200\n",
            "Epoch 19/200\n",
            "Epoch 20/200\n",
            "Epoch 21/200\n",
            "Epoch 22/200\n",
            "Epoch 23/200\n",
            "Epoch 24/200\n",
            "Epoch 25/200\n",
            "Epoch 26/200\n",
            "Epoch 27/200\n",
            "Epoch 28/200\n",
            "Epoch 29/200\n",
            "Epoch 30/200\n",
            "Epoch 31/200\n",
            "Epoch 32/200\n",
            "Epoch 33/200\n",
            "Epoch 34/200\n",
            "Epoch 35/200\n",
            "Epoch 36/200\n",
            "Epoch 37/200\n",
            "Epoch 38/200\n",
            "Epoch 39/200\n",
            "Epoch 40/200\n",
            "Epoch 41/200\n",
            "Epoch 42/200\n",
            "Epoch 43/200\n",
            "Epoch 44/200\n",
            "Epoch 45/200\n",
            "Epoch 46/200\n",
            "Epoch 47/200\n",
            "Epoch 48/200\n",
            "Epoch 49/200\n",
            "Epoch 50/200\n",
            "Epoch 51/200\n",
            "Epoch 52/200\n",
            "Epoch 53/200\n",
            "Epoch 54/200\n",
            "Epoch 55/200\n",
            "Epoch 56/200\n",
            "Epoch 57/200\n",
            "Epoch 58/200\n",
            "Epoch 59/200\n",
            "Epoch 60/200\n",
            "Epoch 61/200\n",
            "Epoch 62/200\n",
            "Epoch 63/200\n",
            "Epoch 64/200\n",
            "Epoch 65/200\n",
            "Epoch 66/200\n",
            "Epoch 67/200\n",
            "Epoch 68/200\n",
            "Epoch 69/200\n",
            "Epoch 70/200\n",
            "Epoch 71/200\n",
            "Epoch 72/200\n",
            "Epoch 73/200\n",
            "Epoch 74/200\n",
            "Epoch 75/200\n",
            "Epoch 76/200\n",
            "Epoch 77/200\n",
            "Epoch 78/200\n",
            "Epoch 79/200\n",
            "Epoch 80/200\n",
            "Epoch 81/200\n",
            "Epoch 82/200\n",
            "Epoch 83/200\n",
            "Epoch 84/200\n",
            "Epoch 85/200\n",
            "Epoch 86/200\n",
            "Epoch 87/200\n",
            "Epoch 88/200\n",
            "Epoch 89/200\n",
            "Epoch 90/200\n",
            "Epoch 91/200\n",
            "Epoch 92/200\n",
            "Epoch 93/200\n",
            "Epoch 94/200\n",
            "Epoch 95/200\n",
            "Epoch 96/200\n",
            "Epoch 97/200\n",
            "Epoch 98/200\n",
            "Epoch 99/200\n",
            "Epoch 100/200\n",
            "Epoch 101/200\n",
            "Epoch 102/200\n",
            "Epoch 103/200\n",
            "Epoch 104/200\n",
            "Epoch 105/200\n",
            "Epoch 106/200\n",
            "Epoch 107/200\n",
            "Epoch 108/200\n",
            "Epoch 109/200\n",
            "Epoch 110/200\n",
            "Epoch 111/200\n",
            "Epoch 112/200\n",
            "Epoch 113/200\n",
            "Epoch 114/200\n",
            "Epoch 115/200\n",
            "Epoch 116/200\n",
            "Epoch 117/200\n",
            "Epoch 118/200\n",
            "Epoch 119/200\n",
            "Epoch 120/200\n",
            "Epoch 121/200\n",
            "Epoch 122/200\n",
            "Epoch 123/200\n",
            "Epoch 124/200\n",
            "Epoch 125/200\n",
            "Epoch 126/200\n",
            "Epoch 127/200\n",
            "Epoch 128/200\n",
            "Epoch 129/200\n",
            "Epoch 130/200\n",
            "Epoch 131/200\n",
            "Epoch 132/200\n",
            "Epoch 133/200\n",
            "Epoch 134/200\n",
            "Epoch 135/200\n",
            "Epoch 136/200\n",
            "Epoch 137/200\n",
            "Epoch 138/200\n",
            "Epoch 139/200\n",
            "Epoch 140/200\n",
            "Epoch 141/200\n",
            "Epoch 142/200\n",
            "Epoch 143/200\n",
            "Epoch 144/200\n",
            "Epoch 145/200\n",
            "Epoch 146/200\n",
            "Epoch 147/200\n",
            "Epoch 148/200\n",
            "Epoch 149/200\n",
            "Epoch 150/200\n",
            "Epoch 151/200\n",
            "Epoch 152/200\n",
            "Epoch 153/200\n",
            "Epoch 154/200\n",
            "Epoch 155/200\n",
            "Epoch 156/200\n",
            "Epoch 157/200\n",
            "Epoch 158/200\n",
            "Epoch 159/200\n",
            "Epoch 160/200\n",
            "Epoch 161/200\n",
            "Epoch 162/200\n",
            "Epoch 163/200\n",
            "Epoch 164/200\n",
            "Epoch 165/200\n",
            "Epoch 166/200\n",
            "Epoch 167/200\n",
            "Epoch 168/200\n",
            "Epoch 169/200\n",
            "Epoch 170/200\n",
            "Epoch 171/200\n",
            "Epoch 172/200\n",
            "Epoch 173/200\n",
            "Epoch 174/200\n",
            "Epoch 175/200\n",
            "Epoch 176/200\n",
            "Epoch 177/200\n",
            "Epoch 178/200\n",
            "Epoch 179/200\n",
            "Epoch 180/200\n",
            "Epoch 181/200\n",
            "Epoch 182/200\n",
            "Epoch 183/200\n",
            "Epoch 184/200\n",
            "Epoch 185/200\n",
            "Epoch 186/200\n",
            "Epoch 187/200\n",
            "Epoch 188/200\n",
            "Epoch 189/200\n",
            "Epoch 190/200\n",
            "Epoch 191/200\n",
            "Epoch 192/200\n",
            "Epoch 193/200\n",
            "Epoch 194/200\n",
            "Epoch 195/200\n",
            "Epoch 196/200\n",
            "Epoch 197/200\n",
            "Epoch 198/200\n",
            "Epoch 199/200\n",
            "Epoch 200/200\n"
          ]
        },
        {
          "output_type": "display_data",
          "data": {
            "text/plain": [
              "<Figure size 432x288 with 1 Axes>"
            ],
            "image/png": "[encoded data removed]"
          },
          "metadata": {
            "needs_background": "light"
          }
        }
      ],
      "source": [
        "# fitting DNN\n",
        "from sklearn.model_selection import train_test_split\n",
        "x_train, x_test, Y_train, Y_test = train_test_split(raw_data_tfidf, raw_data_tags, test_size = 0.20, random_state = 5)\n",
        "from matplotlib import pyplot\n",
        "\n",
        "chatbot.fit(x_train, Y_train, epochs=200, batch_size=10)\n",
        "history = chatbot.fit(x_train, Y_train, epochs=200, batch_size=10, verbose=20)\n",
        "# plot metrics\n",
        "pyplot.plot(history.history['accuracy'])\n",
        "pyplot.plot(history.history['loss'])\n",
        "pyplot.show()"
      ],
      "id": "Nt0rBJ5fNhOL"
    },
    {
      "cell_type": "code",
      "source": [
        "len(Y_test[0])"
      ],
      "metadata": {
        "colab": {
          "base_uri": "https://localhost:8080/"
        },
        "id": "Gyj3bCOw6PQw",
        "outputId": "28d52040-6aec-48c0-8900-c487f8599c3f"
      },
      "id": "Gyj3bCOw6PQw",
      "execution_count": null,
      "outputs": [
        {
          "output_type": "execute_result",
          "data": {
            "text/plain": [
              "17"
            ]
          },
          "metadata": {},
          "execution_count": 14
        }
      ]
    },
    {
      "cell_type": "code",
      "source": [
        "from sklearn.metrics import accuracy_score\n",
        "# true: Y_test\n",
        "\n",
        "y_pred = chatbot.predict(x_test)\n",
        "\n",
        "# result = accuracy_score(np.argmax(Y_test, axis = 1), np.argmax(y_pred, axis=1), normalize=False)\n",
        "score = chatbot.evaluate(x_test, Y_test, verbose=0)\n",
        "print('Test loss:', score[0])\n",
        "print('Test accuracy:', score[1])"
      ],
      "metadata": {
        "colab": {
          "base_uri": "https://localhost:8080/"
        },
        "id": "YfTm3LMU3T_9",
        "outputId": "b6b89741-63df-4cf5-a049-8f29da5bd650"
      },
      "id": "YfTm3LMU3T_9",
      "execution_count": null,
      "outputs": [
        {
          "output_type": "stream",
          "name": "stdout",
          "text": [
            "1/1 [==============================] - 0s 96ms/step\n",
            "Test loss: 10.008723258972168\n",
            "Test accuracy: 0.2857142984867096\n"
          ]
        }
      ]
    },
    {
      "cell_type": "code",
      "source": [
        "print(np.argmax(Y_test, axis = 1))\n",
        "print(np.argmax(y_pred, axis=1))"
      ],
      "metadata": {
        "colab": {
          "base_uri": "https://localhost:8080/"
        },
        "id": "9UveQr5u9GOf",
        "outputId": "4084ccec-8ada-4560-fa9e-ed906bb27cbd"
      },
      "id": "9UveQr5u9GOf",
      "execution_count": null,
      "outputs": [
        {
          "output_type": "stream",
          "name": "stdout",
          "text": [
            "[ 5  9 14  7  0  9  5  4  5 16 15  8 10  3]\n",
            "[ 1  1  1  7  1  9  1  1  1  1  1  0 10  3]\n"
          ]
        }
      ]
    },
    {
      "cell_type": "code",
      "execution_count": null,
      "metadata": {
        "id": "Og54GsUINhOL"
      },
      "outputs": [],
      "source": [
        "# saving model file\n",
        "save_model(chatbot, \"chatbot\")"
      ],
      "id": "Og54GsUINhOL"
    },
    {
      "cell_type": "markdown",
      "metadata": {
        "id": "uFiaIGMWNhOM"
      },
      "source": [
        "# Model2"
      ],
      "id": "uFiaIGMWNhOM"
    },
    {
      "cell_type": "code",
      "execution_count": null,
      "metadata": {
        "id": "CEaOe8mWNhOM"
      },
      "outputs": [],
      "source": [
        "# Create NN model to predict the responses\n",
        "chatbot2 = Sequential()\n",
        "chatbot2.add(Dense(128, input_shape=(len(raw_data_tfidf[0]),), activation='relu'))\n",
        "chatbot2.add(Dropout(0.5))\n",
        "chatbot2.add(Dense(64, activation='relu'))\n",
        "chatbot2.add(Dropout(0.5))\n",
        "chatbot2.add((Dense(len(raw_data_tags[0]), activation='softmax')))\n",
        "sgd = SGD(learning_rate=0.01, decay=1e-6, momentum=0.9, nesterov=True)\n",
        "chatbot2.compile(loss='categorical_crossentropy', optimizer=sgd, metrics=['accuracy'])\n",
        "# Compile model. Stochastic gradient descent with Nesterov accelerated gradient gives good results for this model\n"
      ],
      "id": "CEaOe8mWNhOM"
    },
    {
      "cell_type": "code",
      "execution_count": null,
      "metadata": {
        "id": "q4qb-7MoNhOM"
      },
      "outputs": [],
      "source": [
        "# Create NN model to predict the responses\n",
        "chatbot3 = Sequential()\n",
        "chatbot3.add(Dense(128, input_shape=(len(raw_data_tfidf[0]),), activation='relu'))\n",
        "chatbot3.add(Dropout(0.5))\n",
        "chatbot3.add(Dense(64, activation='relu'))\n",
        "chatbot3.add(Dropout(0.5))\n",
        "chatbot3.add((Dense(len(raw_data_tags[0]), activation='softmax')))\n",
        "chatbot3.compile(loss='categorical_crossentropy', optimizer=\"adam\", metrics=['accuracy'])\n"
      ],
      "id": "q4qb-7MoNhOM"
    },
    {
      "cell_type": "code",
      "execution_count": null,
      "metadata": {
        "colab": {
          "base_uri": "https://localhost:8080/"
        },
        "id": "P4-NmvZDNhOM",
        "outputId": "3f5435b7-9ae4-4bea-f315-04a2f1bc898c"
      },
      "outputs": [
        {
          "output_type": "stream",
          "name": "stdout",
          "text": [
            "Epoch 1/200\n",
            "7/7 [==============================] - 1s 5ms/step - loss: 2.8338 - accuracy: 0.0441\n",
            "Epoch 2/200\n",
            "7/7 [==============================] - 0s 10ms/step - loss: 2.8369 - accuracy: 0.0294\n",
            "Epoch 3/200\n",
            "7/7 [==============================] - 0s 11ms/step - loss: 2.8166 - accuracy: 0.1176\n",
            "Epoch 4/200\n",
            "7/7 [==============================] - 0s 6ms/step - loss: 2.8150 - accuracy: 0.0882\n",
            "Epoch 5/200\n",
            "7/7 [==============================] - 0s 5ms/step - loss: 2.7852 - accuracy: 0.1618\n",
            "Epoch 6/200\n",
            "7/7 [==============================] - 0s 4ms/step - loss: 2.7653 - accuracy: 0.1765\n",
            "Epoch 7/200\n",
            "7/7 [==============================] - 0s 5ms/step - loss: 2.7752 - accuracy: 0.1618\n",
            "Epoch 8/200\n",
            "7/7 [==============================] - 0s 11ms/step - loss: 2.7546 - accuracy: 0.1471\n",
            "Epoch 9/200\n",
            "7/7 [==============================] - 0s 4ms/step - loss: 2.7410 - accuracy: 0.1912\n",
            "Epoch 10/200\n",
            "7/7 [==============================] - 0s 6ms/step - loss: 2.7269 - accuracy: 0.1618\n",
            "Epoch 11/200\n",
            "7/7 [==============================] - 0s 4ms/step - loss: 2.6985 - accuracy: 0.1618\n",
            "Epoch 12/200\n",
            "7/7 [==============================] - 0s 4ms/step - loss: 2.6958 - accuracy: 0.1765\n",
            "Epoch 13/200\n",
            "7/7 [==============================] - 0s 5ms/step - loss: 2.6786 - accuracy: 0.2059\n",
            "Epoch 14/200\n",
            "7/7 [==============================] - 0s 5ms/step - loss: 2.7018 - accuracy: 0.1765\n",
            "Epoch 15/200\n",
            "7/7 [==============================] - 0s 4ms/step - loss: 2.6473 - accuracy: 0.2206\n",
            "Epoch 16/200\n",
            "7/7 [==============================] - 0s 4ms/step - loss: 2.6286 - accuracy: 0.2059\n",
            "Epoch 17/200\n",
            "7/7 [==============================] - 0s 4ms/step - loss: 2.5726 - accuracy: 0.2353\n",
            "Epoch 18/200\n",
            "7/7 [==============================] - 0s 4ms/step - loss: 2.5723 - accuracy: 0.2206\n",
            "Epoch 19/200\n",
            "7/7 [==============================] - 0s 6ms/step - loss: 2.5329 - accuracy: 0.2059\n",
            "Epoch 20/200\n",
            "7/7 [==============================] - 0s 4ms/step - loss: 2.5548 - accuracy: 0.1912\n",
            "Epoch 21/200\n",
            "7/7 [==============================] - 0s 4ms/step - loss: 2.5673 - accuracy: 0.2353\n",
            "Epoch 22/200\n",
            "7/7 [==============================] - 0s 4ms/step - loss: 2.5150 - accuracy: 0.2206\n",
            "Epoch 23/200\n",
            "7/7 [==============================] - 0s 5ms/step - loss: 2.4780 - accuracy: 0.2500\n",
            "Epoch 24/200\n",
            "7/7 [==============================] - 0s 4ms/step - loss: 2.4529 - accuracy: 0.3088\n",
            "Epoch 25/200\n",
            "7/7 [==============================] - 0s 4ms/step - loss: 2.3944 - accuracy: 0.2794\n",
            "Epoch 26/200\n",
            "7/7 [==============================] - 0s 4ms/step - loss: 2.3976 - accuracy: 0.2941\n",
            "Epoch 27/200\n",
            "7/7 [==============================] - 0s 4ms/step - loss: 2.3357 - accuracy: 0.2941\n",
            "Epoch 28/200\n",
            "7/7 [==============================] - 0s 6ms/step - loss: 2.3310 - accuracy: 0.3088\n",
            "Epoch 29/200\n",
            "7/7 [==============================] - 0s 6ms/step - loss: 2.3339 - accuracy: 0.3382\n",
            "Epoch 30/200\n",
            "7/7 [==============================] - 0s 5ms/step - loss: 2.2255 - accuracy: 0.3382\n",
            "Epoch 31/200\n",
            "7/7 [==============================] - 0s 4ms/step - loss: 2.2456 - accuracy: 0.3824\n",
            "Epoch 32/200\n",
            "7/7 [==============================] - 0s 4ms/step - loss: 2.1950 - accuracy: 0.2941\n",
            "Epoch 33/200\n",
            "7/7 [==============================] - 0s 12ms/step - loss: 2.1436 - accuracy: 0.4118\n",
            "Epoch 34/200\n",
            "7/7 [==============================] - 0s 4ms/step - loss: 2.0661 - accuracy: 0.3382\n",
            "Epoch 35/200\n",
            "7/7 [==============================] - 0s 4ms/step - loss: 2.1034 - accuracy: 0.3971\n",
            "Epoch 36/200\n",
            "7/7 [==============================] - 0s 5ms/step - loss: 1.9909 - accuracy: 0.4412\n",
            "Epoch 37/200\n",
            "7/7 [==============================] - 0s 4ms/step - loss: 1.9070 - accuracy: 0.5000\n",
            "Epoch 38/200\n",
            "7/7 [==============================] - 0s 6ms/step - loss: 1.9969 - accuracy: 0.4412\n",
            "Epoch 39/200\n",
            "7/7 [==============================] - 0s 5ms/step - loss: 1.8198 - accuracy: 0.4118\n",
            "Epoch 40/200\n",
            "7/7 [==============================] - 0s 5ms/step - loss: 1.9016 - accuracy: 0.4559\n",
            "Epoch 41/200\n",
            "7/7 [==============================] - 0s 4ms/step - loss: 1.6976 - accuracy: 0.5294\n",
            "Epoch 42/200\n",
            "7/7 [==============================] - 0s 5ms/step - loss: 1.6936 - accuracy: 0.5588\n",
            "Epoch 43/200\n",
            "7/7 [==============================] - 0s 4ms/step - loss: 1.6750 - accuracy: 0.5588\n",
            "Epoch 44/200\n",
            "7/7 [==============================] - 0s 7ms/step - loss: 1.5580 - accuracy: 0.5147\n",
            "Epoch 45/200\n",
            "7/7 [==============================] - 0s 6ms/step - loss: 1.6111 - accuracy: 0.5735\n",
            "Epoch 46/200\n",
            "7/7 [==============================] - 0s 8ms/step - loss: 1.5037 - accuracy: 0.6176\n",
            "Epoch 47/200\n",
            "7/7 [==============================] - 0s 5ms/step - loss: 1.5287 - accuracy: 0.6618\n",
            "Epoch 48/200\n",
            "7/7 [==============================] - 0s 4ms/step - loss: 1.3886 - accuracy: 0.6029\n",
            "Epoch 49/200\n",
            "7/7 [==============================] - 0s 4ms/step - loss: 1.4525 - accuracy: 0.6176\n",
            "Epoch 50/200\n",
            "7/7 [==============================] - 0s 4ms/step - loss: 1.3561 - accuracy: 0.6912\n",
            "Epoch 51/200\n",
            "7/7 [==============================] - 0s 4ms/step - loss: 1.2071 - accuracy: 0.6912\n",
            "Epoch 52/200\n",
            "7/7 [==============================] - 0s 5ms/step - loss: 1.2264 - accuracy: 0.6912\n",
            "Epoch 53/200\n",
            "7/7 [==============================] - 0s 4ms/step - loss: 1.1692 - accuracy: 0.7500\n",
            "Epoch 54/200\n",
            "7/7 [==============================] - 0s 4ms/step - loss: 1.1305 - accuracy: 0.7647\n",
            "Epoch 55/200\n",
            "7/7 [==============================] - 0s 4ms/step - loss: 1.3488 - accuracy: 0.5441\n",
            "Epoch 56/200\n",
            "7/7 [==============================] - 0s 4ms/step - loss: 1.1000 - accuracy: 0.7206\n",
            "Epoch 57/200\n",
            "7/7 [==============================] - 0s 5ms/step - loss: 1.1756 - accuracy: 0.5441\n",
            "Epoch 58/200\n",
            "7/7 [==============================] - 0s 4ms/step - loss: 0.9475 - accuracy: 0.7647\n",
            "Epoch 59/200\n",
            "7/7 [==============================] - 0s 4ms/step - loss: 1.1445 - accuracy: 0.6618\n",
            "Epoch 60/200\n",
            "7/7 [==============================] - 0s 5ms/step - loss: 1.0548 - accuracy: 0.7206\n",
            "Epoch 61/200\n",
            "7/7 [==============================] - 0s 6ms/step - loss: 0.9423 - accuracy: 0.7941\n",
            "Epoch 62/200\n",
            "7/7 [==============================] - 0s 5ms/step - loss: 0.9623 - accuracy: 0.7353\n",
            "Epoch 63/200\n",
            "7/7 [==============================] - 0s 4ms/step - loss: 1.0574 - accuracy: 0.6912\n",
            "Epoch 64/200\n",
            "7/7 [==============================] - 0s 4ms/step - loss: 0.9767 - accuracy: 0.7353\n",
            "Epoch 65/200\n",
            "7/7 [==============================] - 0s 5ms/step - loss: 0.9310 - accuracy: 0.7059\n",
            "Epoch 66/200\n",
            "7/7 [==============================] - 0s 4ms/step - loss: 0.8404 - accuracy: 0.7794\n",
            "Epoch 67/200\n",
            "7/7 [==============================] - 0s 4ms/step - loss: 0.8669 - accuracy: 0.8382\n",
            "Epoch 68/200\n",
            "7/7 [==============================] - 0s 4ms/step - loss: 0.8717 - accuracy: 0.6912\n",
            "Epoch 69/200\n",
            "7/7 [==============================] - 0s 4ms/step - loss: 0.7537 - accuracy: 0.8235\n",
            "Epoch 70/200\n",
            "7/7 [==============================] - 0s 4ms/step - loss: 0.6571 - accuracy: 0.8382\n",
            "Epoch 71/200\n",
            "7/7 [==============================] - 0s 5ms/step - loss: 0.7173 - accuracy: 0.7794\n",
            "Epoch 72/200\n",
            "7/7 [==============================] - 0s 4ms/step - loss: 0.6122 - accuracy: 0.8235\n",
            "Epoch 73/200\n",
            "7/7 [==============================] - 0s 6ms/step - loss: 0.6661 - accuracy: 0.8529\n",
            "Epoch 74/200\n",
            "7/7 [==============================] - 0s 4ms/step - loss: 0.7563 - accuracy: 0.7647\n",
            "Epoch 75/200\n",
            "7/7 [==============================] - 0s 4ms/step - loss: 0.6741 - accuracy: 0.8088\n",
            "Epoch 76/200\n",
            "7/7 [==============================] - 0s 12ms/step - loss: 0.6854 - accuracy: 0.8382\n",
            "Epoch 77/200\n",
            "7/7 [==============================] - 0s 13ms/step - loss: 0.7449 - accuracy: 0.7941\n",
            "Epoch 78/200\n",
            "7/7 [==============================] - 0s 5ms/step - loss: 0.5007 - accuracy: 0.8824\n",
            "Epoch 79/200\n",
            "7/7 [==============================] - 0s 4ms/step - loss: 0.5649 - accuracy: 0.8382\n",
            "Epoch 80/200\n",
            "7/7 [==============================] - 0s 4ms/step - loss: 0.5419 - accuracy: 0.8382\n",
            "Epoch 81/200\n",
            "7/7 [==============================] - 0s 6ms/step - loss: 0.6727 - accuracy: 0.8382\n",
            "Epoch 82/200\n",
            "7/7 [==============================] - 0s 5ms/step - loss: 0.6305 - accuracy: 0.7794\n",
            "Epoch 83/200\n",
            "7/7 [==============================] - 0s 9ms/step - loss: 0.5117 - accuracy: 0.8529\n",
            "Epoch 84/200\n",
            "7/7 [==============================] - 0s 5ms/step - loss: 0.5155 - accuracy: 0.8676\n",
            "Epoch 85/200\n",
            "7/7 [==============================] - 0s 4ms/step - loss: 0.6022 - accuracy: 0.8088\n",
            "Epoch 86/200\n",
            "7/7 [==============================] - 0s 4ms/step - loss: 0.5256 - accuracy: 0.8529\n",
            "Epoch 87/200\n",
            "7/7 [==============================] - 0s 5ms/step - loss: 0.5231 - accuracy: 0.8088\n",
            "Epoch 88/200\n",
            "7/7 [==============================] - 0s 4ms/step - loss: 0.5790 - accuracy: 0.7794\n",
            "Epoch 89/200\n",
            "7/7 [==============================] - 0s 4ms/step - loss: 0.5585 - accuracy: 0.8676\n",
            "Epoch 90/200\n",
            "7/7 [==============================] - 0s 4ms/step - loss: 0.4376 - accuracy: 0.8529\n",
            "Epoch 91/200\n",
            "7/7 [==============================] - 0s 4ms/step - loss: 0.5305 - accuracy: 0.8676\n",
            "Epoch 92/200\n",
            "7/7 [==============================] - 0s 6ms/step - loss: 0.5416 - accuracy: 0.8235\n",
            "Epoch 93/200\n",
            "7/7 [==============================] - 0s 5ms/step - loss: 0.4995 - accuracy: 0.8382\n",
            "Epoch 94/200\n",
            "7/7 [==============================] - 0s 4ms/step - loss: 0.3737 - accuracy: 0.9118\n",
            "Epoch 95/200\n",
            "7/7 [==============================] - 0s 4ms/step - loss: 0.5216 - accuracy: 0.7794\n",
            "Epoch 96/200\n",
            "7/7 [==============================] - 0s 4ms/step - loss: 0.4417 - accuracy: 0.8676\n",
            "Epoch 97/200\n",
            "7/7 [==============================] - 0s 4ms/step - loss: 0.3645 - accuracy: 0.9265\n",
            "Epoch 98/200\n",
            "7/7 [==============================] - 0s 4ms/step - loss: 0.5200 - accuracy: 0.8382\n",
            "Epoch 99/200\n",
            "7/7 [==============================] - 0s 5ms/step - loss: 0.4673 - accuracy: 0.8676\n",
            "Epoch 100/200\n",
            "7/7 [==============================] - 0s 5ms/step - loss: 0.4212 - accuracy: 0.8382\n",
            "Epoch 101/200\n",
            "7/7 [==============================] - 0s 5ms/step - loss: 0.3896 - accuracy: 0.8529\n",
            "Epoch 102/200\n",
            "7/7 [==============================] - 0s 5ms/step - loss: 0.4656 - accuracy: 0.8235\n",
            "Epoch 103/200\n",
            "7/7 [==============================] - 0s 4ms/step - loss: 0.5617 - accuracy: 0.8382\n",
            "Epoch 104/200\n",
            "7/7 [==============================] - 0s 10ms/step - loss: 0.3566 - accuracy: 0.8824\n",
            "Epoch 105/200\n",
            "7/7 [==============================] - 0s 5ms/step - loss: 0.4528 - accuracy: 0.8824\n",
            "Epoch 106/200\n",
            "7/7 [==============================] - 0s 4ms/step - loss: 0.5081 - accuracy: 0.8088\n",
            "Epoch 107/200\n",
            "7/7 [==============================] - 0s 3ms/step - loss: 0.3945 - accuracy: 0.8824\n",
            "Epoch 108/200\n",
            "7/7 [==============================] - 0s 4ms/step - loss: 0.4184 - accuracy: 0.8676\n",
            "Epoch 109/200\n",
            "7/7 [==============================] - 0s 3ms/step - loss: 0.4332 - accuracy: 0.8382\n",
            "Epoch 110/200\n",
            "7/7 [==============================] - 0s 3ms/step - loss: 0.3384 - accuracy: 0.9265\n",
            "Epoch 111/200\n",
            "7/7 [==============================] - 0s 3ms/step - loss: 0.3789 - accuracy: 0.8676\n",
            "Epoch 112/200\n",
            "7/7 [==============================] - 0s 4ms/step - loss: 0.3874 - accuracy: 0.8971\n",
            "Epoch 113/200\n",
            "7/7 [==============================] - 0s 3ms/step - loss: 0.3621 - accuracy: 0.8382\n",
            "Epoch 114/200\n",
            "7/7 [==============================] - 0s 3ms/step - loss: 0.3189 - accuracy: 0.8529\n",
            "Epoch 115/200\n",
            "7/7 [==============================] - 0s 3ms/step - loss: 0.2963 - accuracy: 0.9118\n",
            "Epoch 116/200\n",
            "7/7 [==============================] - 0s 3ms/step - loss: 0.4170 - accuracy: 0.8824\n",
            "Epoch 117/200\n",
            "7/7 [==============================] - 0s 3ms/step - loss: 0.2890 - accuracy: 0.9118\n",
            "Epoch 118/200\n",
            "7/7 [==============================] - 0s 3ms/step - loss: 0.2990 - accuracy: 0.8824\n",
            "Epoch 119/200\n",
            "7/7 [==============================] - 0s 3ms/step - loss: 0.3704 - accuracy: 0.8824\n",
            "Epoch 120/200\n",
            "7/7 [==============================] - 0s 3ms/step - loss: 0.3939 - accuracy: 0.8382\n",
            "Epoch 121/200\n",
            "7/7 [==============================] - 0s 3ms/step - loss: 0.3056 - accuracy: 0.9118\n",
            "Epoch 122/200\n",
            "7/7 [==============================] - 0s 3ms/step - loss: 0.3526 - accuracy: 0.9118\n",
            "Epoch 123/200\n",
            "7/7 [==============================] - 0s 3ms/step - loss: 0.3288 - accuracy: 0.8529\n",
            "Epoch 124/200\n",
            "7/7 [==============================] - 0s 4ms/step - loss: 0.3465 - accuracy: 0.8824\n",
            "Epoch 125/200\n",
            "7/7 [==============================] - 0s 3ms/step - loss: 0.3288 - accuracy: 0.8676\n",
            "Epoch 126/200\n",
            "7/7 [==============================] - 0s 3ms/step - loss: 0.3111 - accuracy: 0.8971\n",
            "Epoch 127/200\n",
            "7/7 [==============================] - 0s 3ms/step - loss: 0.3077 - accuracy: 0.8824\n",
            "Epoch 128/200\n",
            "7/7 [==============================] - 0s 4ms/step - loss: 0.3209 - accuracy: 0.9118\n",
            "Epoch 129/200\n",
            "7/7 [==============================] - 0s 3ms/step - loss: 0.3725 - accuracy: 0.8382\n",
            "Epoch 130/200\n",
            "7/7 [==============================] - 0s 3ms/step - loss: 0.3543 - accuracy: 0.8676\n",
            "Epoch 131/200\n",
            "7/7 [==============================] - 0s 4ms/step - loss: 0.3389 - accuracy: 0.9118\n",
            "Epoch 132/200\n",
            "7/7 [==============================] - 0s 3ms/step - loss: 0.2770 - accuracy: 0.9118\n",
            "Epoch 133/200\n",
            "7/7 [==============================] - 0s 3ms/step - loss: 0.3107 - accuracy: 0.9118\n",
            "Epoch 134/200\n",
            "7/7 [==============================] - 0s 3ms/step - loss: 0.3696 - accuracy: 0.8529\n",
            "Epoch 135/200\n",
            "7/7 [==============================] - 0s 4ms/step - loss: 0.3341 - accuracy: 0.8676\n",
            "Epoch 136/200\n",
            "7/7 [==============================] - 0s 3ms/step - loss: 0.2765 - accuracy: 0.8824\n",
            "Epoch 137/200\n",
            "7/7 [==============================] - 0s 3ms/step - loss: 0.2500 - accuracy: 0.9559\n",
            "Epoch 138/200\n",
            "7/7 [==============================] - 0s 4ms/step - loss: 0.3704 - accuracy: 0.8382\n",
            "Epoch 139/200\n",
            "7/7 [==============================] - 0s 3ms/step - loss: 0.3098 - accuracy: 0.8824\n",
            "Epoch 140/200\n",
            "7/7 [==============================] - 0s 3ms/step - loss: 0.3074 - accuracy: 0.8971\n",
            "Epoch 141/200\n",
            "7/7 [==============================] - 0s 3ms/step - loss: 0.2392 - accuracy: 0.9265\n",
            "Epoch 142/200\n",
            "7/7 [==============================] - 0s 3ms/step - loss: 0.3378 - accuracy: 0.8824\n",
            "Epoch 143/200\n",
            "7/7 [==============================] - 0s 4ms/step - loss: 0.3931 - accuracy: 0.8676\n",
            "Epoch 144/200\n",
            "7/7 [==============================] - 0s 3ms/step - loss: 0.3321 - accuracy: 0.8824\n",
            "Epoch 145/200\n",
            "7/7 [==============================] - 0s 4ms/step - loss: 0.2868 - accuracy: 0.8971\n",
            "Epoch 146/200\n",
            "7/7 [==============================] - 0s 3ms/step - loss: 0.3293 - accuracy: 0.8971\n",
            "Epoch 147/200\n",
            "7/7 [==============================] - 0s 3ms/step - loss: 0.3074 - accuracy: 0.9118\n",
            "Epoch 148/200\n",
            "7/7 [==============================] - 0s 3ms/step - loss: 0.3404 - accuracy: 0.8529\n",
            "Epoch 149/200\n",
            "7/7 [==============================] - 0s 3ms/step - loss: 0.2656 - accuracy: 0.8971\n",
            "Epoch 150/200\n",
            "7/7 [==============================] - 0s 4ms/step - loss: 0.2594 - accuracy: 0.8971\n",
            "Epoch 151/200\n",
            "7/7 [==============================] - 0s 3ms/step - loss: 0.2967 - accuracy: 0.9118\n",
            "Epoch 152/200\n",
            "7/7 [==============================] - 0s 3ms/step - loss: 0.2720 - accuracy: 0.8676\n",
            "Epoch 153/200\n",
            "7/7 [==============================] - 0s 3ms/step - loss: 0.3619 - accuracy: 0.8529\n",
            "Epoch 154/200\n",
            "7/7 [==============================] - 0s 4ms/step - loss: 0.2867 - accuracy: 0.8971\n",
            "Epoch 155/200\n",
            "7/7 [==============================] - 0s 4ms/step - loss: 0.2776 - accuracy: 0.8676\n",
            "Epoch 156/200\n",
            "7/7 [==============================] - 0s 3ms/step - loss: 0.2863 - accuracy: 0.8971\n",
            "Epoch 157/200\n",
            "7/7 [==============================] - 0s 3ms/step - loss: 0.3062 - accuracy: 0.8676\n",
            "Epoch 158/200\n",
            "7/7 [==============================] - 0s 4ms/step - loss: 0.2526 - accuracy: 0.8824\n",
            "Epoch 159/200\n",
            "7/7 [==============================] - 0s 3ms/step - loss: 0.2606 - accuracy: 0.9265\n",
            "Epoch 160/200\n",
            "7/7 [==============================] - 0s 3ms/step - loss: 0.3419 - accuracy: 0.8676\n",
            "Epoch 161/200\n",
            "7/7 [==============================] - 0s 3ms/step - loss: 0.1925 - accuracy: 0.9559\n",
            "Epoch 162/200\n",
            "7/7 [==============================] - 0s 3ms/step - loss: 0.2579 - accuracy: 0.9118\n",
            "Epoch 163/200\n",
            "7/7 [==============================] - 0s 3ms/step - loss: 0.2208 - accuracy: 0.9118\n",
            "Epoch 164/200\n",
            "7/7 [==============================] - 0s 3ms/step - loss: 0.2605 - accuracy: 0.9265\n",
            "Epoch 165/200\n",
            "7/7 [==============================] - 0s 3ms/step - loss: 0.2601 - accuracy: 0.9118\n",
            "Epoch 166/200\n",
            "7/7 [==============================] - 0s 3ms/step - loss: 0.2987 - accuracy: 0.8676\n",
            "Epoch 167/200\n",
            "7/7 [==============================] - 0s 3ms/step - loss: 0.3222 - accuracy: 0.8824\n",
            "Epoch 168/200\n",
            "7/7 [==============================] - 0s 4ms/step - loss: 0.3163 - accuracy: 0.8529\n",
            "Epoch 169/200\n",
            "7/7 [==============================] - 0s 3ms/step - loss: 0.3004 - accuracy: 0.8382\n",
            "Epoch 170/200\n",
            "7/7 [==============================] - 0s 3ms/step - loss: 0.2405 - accuracy: 0.8971\n",
            "Epoch 171/200\n",
            "7/7 [==============================] - 0s 3ms/step - loss: 0.2365 - accuracy: 0.9265\n",
            "Epoch 172/200\n",
            "7/7 [==============================] - 0s 4ms/step - loss: 0.2105 - accuracy: 0.9412\n",
            "Epoch 173/200\n",
            "7/7 [==============================] - 0s 3ms/step - loss: 0.3367 - accuracy: 0.8529\n",
            "Epoch 174/200\n",
            "7/7 [==============================] - 0s 3ms/step - loss: 0.2826 - accuracy: 0.8971\n",
            "Epoch 175/200\n",
            "7/7 [==============================] - 0s 3ms/step - loss: 0.2540 - accuracy: 0.8824\n",
            "Epoch 176/200\n",
            "7/7 [==============================] - 0s 3ms/step - loss: 0.2438 - accuracy: 0.9118\n",
            "Epoch 177/200\n",
            "7/7 [==============================] - 0s 3ms/step - loss: 0.2673 - accuracy: 0.8824\n",
            "Epoch 178/200\n",
            "7/7 [==============================] - 0s 3ms/step - loss: 0.2629 - accuracy: 0.8971\n",
            "Epoch 179/200\n",
            "7/7 [==============================] - 0s 4ms/step - loss: 0.3433 - accuracy: 0.8676\n",
            "Epoch 180/200\n",
            "7/7 [==============================] - 0s 3ms/step - loss: 0.2562 - accuracy: 0.8971\n",
            "Epoch 181/200\n",
            "7/7 [==============================] - 0s 4ms/step - loss: 0.2094 - accuracy: 0.9559\n",
            "Epoch 182/200\n",
            "7/7 [==============================] - 0s 3ms/step - loss: 0.2582 - accuracy: 0.8971\n",
            "Epoch 183/200\n",
            "7/7 [==============================] - 0s 3ms/step - loss: 0.2226 - accuracy: 0.8971\n",
            "Epoch 184/200\n",
            "7/7 [==============================] - 0s 3ms/step - loss: 0.2351 - accuracy: 0.8971\n",
            "Epoch 185/200\n",
            "7/7 [==============================] - 0s 3ms/step - loss: 0.2403 - accuracy: 0.9265\n",
            "Epoch 186/200\n",
            "7/7 [==============================] - 0s 3ms/step - loss: 0.2462 - accuracy: 0.8676\n",
            "Epoch 187/200\n",
            "7/7 [==============================] - 0s 3ms/step - loss: 0.3046 - accuracy: 0.8971\n",
            "Epoch 188/200\n",
            "7/7 [==============================] - 0s 4ms/step - loss: 0.3046 - accuracy: 0.8824\n",
            "Epoch 189/200\n",
            "7/7 [==============================] - 0s 3ms/step - loss: 0.2523 - accuracy: 0.9118\n",
            "Epoch 190/200\n",
            "7/7 [==============================] - 0s 3ms/step - loss: 0.2662 - accuracy: 0.8824\n",
            "Epoch 191/200\n",
            "7/7 [==============================] - 0s 3ms/step - loss: 0.2532 - accuracy: 0.8676\n",
            "Epoch 192/200\n",
            "7/7 [==============================] - 0s 3ms/step - loss: 0.2141 - accuracy: 0.9118\n",
            "Epoch 193/200\n",
            "7/7 [==============================] - 0s 3ms/step - loss: 0.2425 - accuracy: 0.9265\n",
            "Epoch 194/200\n",
            "7/7 [==============================] - 0s 3ms/step - loss: 0.2467 - accuracy: 0.8676\n",
            "Epoch 195/200\n",
            "7/7 [==============================] - 0s 3ms/step - loss: 0.2535 - accuracy: 0.8382\n",
            "Epoch 196/200\n",
            "7/7 [==============================] - 0s 3ms/step - loss: 0.2165 - accuracy: 0.9118\n",
            "Epoch 197/200\n",
            "7/7 [==============================] - 0s 3ms/step - loss: 0.2543 - accuracy: 0.9118\n",
            "Epoch 198/200\n",
            "7/7 [==============================] - 0s 3ms/step - loss: 0.2184 - accuracy: 0.9265\n",
            "Epoch 199/200\n",
            "7/7 [==============================] - 0s 3ms/step - loss: 0.2022 - accuracy: 0.9412\n",
            "Epoch 200/200\n",
            "7/7 [==============================] - 0s 3ms/step - loss: 0.2697 - accuracy: 0.8971\n"
          ]
        },
        {
          "output_type": "execute_result",
          "data": {
            "text/plain": [
              "<keras.callbacks.History at 0x7f633f8c8e50>"
            ]
          },
          "metadata": {},
          "execution_count": 20
        }
      ],
      "source": [
        "chatbot2.fit(raw_data_tfidf, raw_data_tags, epochs=200, batch_size=10)"
      ],
      "id": "P4-NmvZDNhOM"
    },
    {
      "cell_type": "code",
      "source": [],
      "metadata": {
        "id": "aSKvmUH51R5C"
      },
      "id": "aSKvmUH51R5C",
      "execution_count": null,
      "outputs": []
    },
    {
      "cell_type": "code",
      "source": [
        "from sklearn.metrics import accuracy_score\n",
        "# true: Y_test\n",
        "\n",
        "y_pred = chatbot2.predict(x_test)\n",
        "\n",
        "# result = accuracy_score(np.argmax(Y_test, axis = 1), np.argmax(y_pred, axis=1), normalize=False)\n",
        "score = chatbot2.evaluate(x_test, Y_test, verbose=0)\n",
        "print('Test loss:', score[0])\n",
        "print('Test accuracy:', score[1])"
      ],
      "metadata": {
        "colab": {
          "base_uri": "https://localhost:8080/"
        },
        "id": "oTqOIXo91H_p",
        "outputId": "c29639ec-60ff-4520-d5e5-f6a3cc966959"
      },
      "id": "oTqOIXo91H_p",
      "execution_count": null,
      "outputs": [
        {
          "output_type": "stream",
          "name": "stdout",
          "text": [
            "1/1 [==============================] - 0s 58ms/step\n",
            "Test loss: 0.17637236416339874\n",
            "Test accuracy: 0.8571428656578064\n"
          ]
        }
      ]
    },
    {
      "cell_type": "code",
      "execution_count": null,
      "metadata": {
        "id": "9KlTM7bJNhOM"
      },
      "outputs": [],
      "source": [
        "# saving model file\n",
        "save_model(chatbot2, \"chatbot2\")"
      ],
      "id": "9KlTM7bJNhOM"
    },
    {
      "cell_type": "code",
      "source": [
        "import tensorflow as tf\n",
        "\n",
        "# Convert the model\n",
        "converter = tf.lite.TFLiteConverter.from_keras_model(chatbot2) # path to the SavedModel directory\n",
        "tflite_model = converter.convert()\n",
        "\n",
        "# Save the model.\n",
        "with open('model4.tflite', 'wb') as f:\n",
        "  f.write(tflite_model)"
      ],
      "metadata": {
        "id": "w7Rcfvgx6N7f"
      },
      "id": "w7Rcfvgx6N7f",
      "execution_count": null,
      "outputs": []
    },
    {
      "cell_type": "code",
      "source": [
        "raw_data_tags"
      ],
      "metadata": {
        "colab": {
          "base_uri": "https://localhost:8080/"
        },
        "id": "jN2HoOT58Vn2",
        "outputId": "329db84b-6560-4a6b-aa01-50562cb75477"
      },
      "id": "jN2HoOT58Vn2",
      "execution_count": null,
      "outputs": [
        {
          "output_type": "execute_result",
          "data": {
            "text/plain": [
              "array([[0, 1, 0, ..., 0, 0, 0],\n",
              "       [0, 1, 0, ..., 0, 0, 0],\n",
              "       [0, 1, 0, ..., 0, 0, 0],\n",
              "       ...,\n",
              "       [0, 0, 0, ..., 0, 0, 0],\n",
              "       [0, 0, 0, ..., 0, 0, 0],\n",
              "       [0, 0, 0, ..., 0, 0, 0]], dtype=uint8)"
            ]
          },
          "metadata": {},
          "execution_count": 129
        }
      ]
    },
    {
      "cell_type": "code",
      "source": [
        "def training(model):\n",
        "  history = model.fit(raw_data_tfidf, raw_data_tags, epochs=200, batch_size=10, verbose=0)\n",
        "  # plot metrics\n",
        "  fig, ax = plt.subplots()\n",
        "  accuracy_plot, = pyplot.plot(history.history['accuracy'], label = 'Accuracy')\n",
        "  loss_plot, = pyplot.plot(history.history['loss'], label = 'Loss')\n",
        "  ax.legend([accuracy_plot, loss_plot], ['Accuracy', 'Loss'])\n",
        "  pyplot.show()"
      ],
      "metadata": {
        "id": "nyhApi6gMYmw"
      },
      "id": "nyhApi6gMYmw",
      "execution_count": null,
      "outputs": []
    },
    {
      "cell_type": "code",
      "source": [
        "training(chatbot2)"
      ],
      "metadata": {
        "colab": {
          "base_uri": "https://localhost:8080/",
          "height": 265
        },
        "id": "Bm4a8r9NMYxa",
        "outputId": "0835cc7c-7fd6-4c7a-8a29-5b4ffb3b0998"
      },
      "id": "Bm4a8r9NMYxa",
      "execution_count": null,
      "outputs": [
        {
          "output_type": "display_data",
          "data": {
            "text/plain": [
              "<Figure size 432x288 with 1 Axes>"
            ],
            "image/png": "[encoded data removed]"
          },
          "metadata": {
            "needs_background": "light"
          }
        }
      ]
    },
    {
      "cell_type": "code",
      "source": [
        "chatbot2 = Sequential()\n",
        "chatbot2.add(Dense(128, input_shape=(len(raw_data_tfidf[0]),), activation='relu'))\n",
        "chatbot2.add(Dropout(0.5))\n",
        "chatbot2.add(Dense(64, activation='relu'))\n",
        "chatbot2.add(Dropout(0.5))\n",
        "chatbot2.add((Dense(len(raw_data_tags[0]), activation='softmax')))\n",
        "sgd = SGD(learning_rate=0.01, decay=1e-6, momentum=0.9, nesterov=True)\n",
        "chatbot2.compile(loss='categorical_crossentropy', optimizer=sgd, metrics=['accuracy'])\n",
        "training(chatbot2)"
      ],
      "metadata": {
        "colab": {
          "base_uri": "https://localhost:8080/",
          "height": 265
        },
        "id": "LtSvvtMQwrt1",
        "outputId": "14efe5f0-1de2-4664-d11d-d2def542c2d2"
      },
      "id": "LtSvvtMQwrt1",
      "execution_count": null,
      "outputs": [
        {
          "output_type": "display_data",
          "data": {
            "text/plain": [
              "<Figure size 432x288 with 1 Axes>"
            ],
            "image/png": "[encoded data removed]"
          },
          "metadata": {
            "needs_background": "light"
          }
        }
      ]
    },
    {
      "cell_type": "code",
      "source": [
        "chatbot3 = Sequential()\n",
        "chatbot3.add(Dense(128, input_shape=(len(raw_data_tfidf[0]),), activation='relu'))\n",
        "chatbot3.add(Dropout(0.5))\n",
        "chatbot3.add(Dense(64, activation='relu'))\n",
        "chatbot3.add(Dropout(0.5))\n",
        "chatbot3.add((Dense(len(raw_data_tags[0]), activation='softmax')))\n",
        "chatbot3.compile(loss='categorical_crossentropy', optimizer=\"adam\", metrics=['accuracy'])\n",
        "training(chatbot3)"
      ],
      "metadata": {
        "colab": {
          "base_uri": "https://localhost:8080/",
          "height": 265
        },
        "id": "WrDK7bqGwvXp",
        "outputId": "b7c76889-693a-4305-a4c3-a6d3a8c57fa3"
      },
      "id": "WrDK7bqGwvXp",
      "execution_count": null,
      "outputs": [
        {
          "output_type": "display_data",
          "data": {
            "text/plain": [
              "<Figure size 432x288 with 1 Axes>"
            ],
            "image/png": "[encoded data removed]"
          },
          "metadata": {
            "needs_background": "light"
          }
        }
      ]
    },
    {
      "cell_type": "code",
      "source": [
        "chatbot4 = Sequential()\n",
        "chatbot4.add(Dense(256, input_shape=(len(raw_data_tfidf[0]),), activation='relu'))\n",
        "chatbot4.add(Dropout(0.5))\n",
        "chatbot4.add(Dense(128, activation='relu'))\n",
        "chatbot4.add(Dropout(0.5))\n",
        "chatbot4.add(Dense(64, activation='relu'))\n",
        "chatbot4.add(Dropout(0.5))\n",
        "chatbot4.add((Dense(len(raw_data_tags[0]), activation='softmax')))\n",
        "chatbot4.compile(loss='categorical_crossentropy', optimizer=\"adam\", metrics=['accuracy'])\n",
        "training(chatbot4)"
      ],
      "metadata": {
        "colab": {
          "base_uri": "https://localhost:8080/",
          "height": 269
        },
        "id": "Wd3CRU7Ywxc6",
        "outputId": "f9c9e526-49dc-4ac9-cbc3-cf0696f76d22"
      },
      "id": "Wd3CRU7Ywxc6",
      "execution_count": null,
      "outputs": [
        {
          "output_type": "display_data",
          "data": {
            "text/plain": [
              "<Figure size 432x288 with 1 Axes>"
            ],
            "image/png": "[encoded data removed]"
          },
          "metadata": {
            "needs_background": "light"
          }
        }
      ]
    },
    {
      "cell_type": "code",
      "source": [
        "save_model(chatbot4, \"chatbot4\")"
      ],
      "metadata": {
        "id": "eq243nJZMCpR"
      },
      "id": "eq243nJZMCpR",
      "execution_count": null,
      "outputs": []
    },
    {
      "cell_type": "code",
      "execution_count": null,
      "metadata": {
        "id": "VawzbVgvNhOM"
      },
      "outputs": [],
      "source": [
        "# importing training data\n",
        "training_data = pd.read_csv(\"training_data.csv\")\n",
        "# loading model\n",
        "chatbot = load_model(\"chatbot4\")\n",
        "# loading responses\n",
        "responses = json.load(open(\"responses.json\", \"r\"))"
      ],
      "id": "VawzbVgvNhOM"
    },
    {
      "cell_type": "code",
      "execution_count": null,
      "metadata": {
        "colab": {
          "base_uri": "https://localhost:8080/"
        },
        "id": "bfTLwpbWNhOM",
        "outputId": "1e886df4-57fd-48c7-f186-08ccc57abd07"
      },
      "outputs": [
        {
          "output_type": "stream",
          "name": "stdout",
          "text": [
            "                              patterns                      tags\n",
            "0                                   hi                     Intro\n",
            "1                          how are you                     Intro\n",
            "2                      is anyone there                     Intro\n",
            "3                                hello                     Intro\n",
            "4                             whats up                     Intro\n",
            "..                                 ...                       ...\n",
            "63    defined dimensionality reduction  dimensionality reduction\n",
            "64  purpose of dimensinality reduction  dimensionality reduction\n",
            "65           what is gradient boosting         gradient boosting\n",
            "66            use of gradient boosting         gradient boosting\n",
            "67            define gradient boosting         gradient boosting\n",
            "\n",
            "[68 rows x 2 columns]\n"
          ]
        }
      ],
      "source": [
        "# fitting TfIdfVectorizer with training data to preprocess inputs\n",
        "training_data[\"patterns\"] = training_data[\"patterns\"].str.lower()\n",
        "vectorizer = TfidfVectorizer(ngram_range=(1, 6), stop_words=\"english\")\n",
        "vectorizer.fit(training_data[\"patterns\"])\n",
        "print(training_data)"
      ],
      "id": "bfTLwpbWNhOM"
    },
    {
      "cell_type": "code",
      "execution_count": null,
      "metadata": {
        "colab": {
          "base_uri": "https://localhost:8080/"
        },
        "id": "_GXG9Y4lNhOM",
        "outputId": "a25572ca-098a-4908-b991-41f2dc794356"
      },
      "outputs": [
        {
          "output_type": "execute_result",
          "data": {
            "text/plain": [
              "LabelEncoder()"
            ]
          },
          "metadata": {},
          "execution_count": 35
        }
      ],
      "source": [
        "# fitting LabelEncoder with target variable(tags) for inverse transformation of predictions\n",
        "le = LabelEncoder()\n",
        "le.fit(training_data[\"tags\"].astype(str))"
      ],
      "id": "_GXG9Y4lNhOM"
    },
    {
      "cell_type": "code",
      "execution_count": null,
      "metadata": {
        "id": "4Woeye42NhOM"
      },
      "outputs": [],
      "source": [
        "# transforming input and predicting intent\n",
        "def predict_tag(inp_str):\n",
        "    inp_data_tfidf = vectorizer.transform([inp_str.lower()]).toarray()\n",
        "    predicted_inp_data = chatbot.predict(inp_data_tfidf)\n",
        "    encoded_label = [np.argmax(predicted_inp_data)]\n",
        "    predicted_tag = le.inverse_transform(encoded_label)[0]\n",
        "    return predicted_tag"
      ],
      "id": "4Woeye42NhOM"
    },
    {
      "cell_type": "code",
      "execution_count": null,
      "metadata": {
        "id": "oaJHN_-ONhOM"
      },
      "outputs": [],
      "source": [
        "# defining chat function\n",
        "def start_chat():\n",
        "    print(\"---------------  AI Chat bot  ---------------\")\n",
        "    print(\"Bot: This is Machine Learning 101 bot! How can I help? \\n\\n\")\n",
        "    while True:\n",
        "        inp = input(\"Ask about Machine Learning 101 : \")\n",
        "        if inp == \"exit\" or inp == \"logout\":\n",
        "            break\n",
        "        else:\n",
        "            if inp:\n",
        "                tag = predict_tag(inp)\n",
        "                response = random.choice(responses[tag])\n",
        "                i = 0\n",
        "                response_list = response.split(' ')\n",
        "                print(\"Bot: \")\n",
        "                while (i < len(response_list)):\n",
        "                  if (i + 10 < len(response_list)) :\n",
        "                    print(\"    \" + \" \".join(response_list[i:i+10]))\n",
        "                    i += 10\n",
        "                  else :\n",
        "                    print(\"    \" + \" \".join(response_list[i:]))\n",
        "                    break                   \n",
        "                # print(\"Bot: \", response)\n",
        "                print(\"-\"*50)\n",
        "            else:\n",
        "                pass"
      ],
      "id": "oaJHN_-ONhOM"
    },
    {
      "cell_type": "code",
      "execution_count": null,
      "metadata": {
        "colab": {
          "base_uri": "https://localhost:8080/"
        },
        "id": "Xx7Ob33GNhON",
        "outputId": "e25bde6d-e265-46a1-ccea-17933a94dc31"
      },
      "outputs": [
        {
          "name": "stdout",
          "output_type": "stream",
          "text": [
            "---------------  AI Chat bot  ---------------\n",
            "Bot: This is Machine Learning 101 bot! How can I help? \n",
            "\n",
            "\n",
            "Ask about Machine Learning 101 : What is Machine learning?\n",
            "1/1 [==============================] - 0s 74ms/step\n",
            "Bot: \n",
            "    ML algorithms operate by building a modelfrom example inputs in\n",
            "    order to make data-driven predictions or decisions,rather than following strictly\n",
            "    static program instructions.\n",
            "--------------------------------------------------\n",
            "Ask about Machine Learning 101 : exit\n"
          ]
        }
      ],
      "source": [
        "# calling chat function to start chatting\n",
        "start_chat()"
      ],
      "id": "Xx7Ob33GNhON"
    },
    {
      "cell_type": "code",
      "execution_count": null,
      "metadata": {
        "id": "AtJ-6NKlNhON"
      },
      "outputs": [],
      "source": [],
      "id": "AtJ-6NKlNhON"
    },
    {
      "cell_type": "code",
      "source": [],
      "metadata": {
        "id": "ZouzA0cGOot6"
      },
      "id": "ZouzA0cGOot6",
      "execution_count": null,
      "outputs": []
    }
  ],
  "metadata": {
    "kernelspec": {
      "display_name": "Python 3",
      "language": "python",
      "name": "python3"
    },
    "language_info": {
      "codemirror_mode": {
        "name": "ipython",
        "version": 3
      },
      "file_extension": ".py",
      "mimetype": "text/x-python",
      "name": "python",
      "nbconvert_exporter": "python",
      "pygments_lexer": "ipython3",
      "version": "3.8.3"
    },
    "colab": {
      "provenance": []
    }
  },
  "nbformat": 4,
  "nbformat_minor": 5
}